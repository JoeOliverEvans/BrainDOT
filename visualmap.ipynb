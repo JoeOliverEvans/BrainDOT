{
 "cells": [
  {
   "metadata": {
    "ExecuteTime": {
     "end_time": "2024-11-19T16:29:48.299081Z",
     "start_time": "2024-11-19T16:29:47.985593Z"
    }
   },
   "cell_type": "code",
   "source": [
    "import mat73\n",
    "import numpy as np\n",
    "import matplotlib.pyplot as plt\n",
    "import scipy\n",
    "import scipy.io as sio\n",
    "import pandas as pd\n",
    "from skimage import metrics\n",
    "from tqdm import tqdm"
   ],
   "id": "e5bdbbca6673a4d4",
   "outputs": [],
   "execution_count": 1
  },
  {
   "metadata": {
    "ExecuteTime": {
     "end_time": "2024-11-19T16:29:48.534747Z",
     "start_time": "2024-11-19T16:29:48.299591Z"
    }
   },
   "cell_type": "code",
   "source": [
    "images = mat73.loadmat(r'Datasets/VisualMapTest/images_CCW1Mesh_visualmap.mat')\n",
    "data = mat73.loadmat(r'Datasets/VisualMapTest/data_CCW1Mesh_visualmap.mat')"
   ],
   "id": "d0d4d49b93026768",
   "outputs": [],
   "execution_count": 2
  },
  {
   "metadata": {
    "ExecuteTime": {
     "end_time": "2024-11-19T16:29:49.502420Z",
     "start_time": "2024-11-19T16:29:49.486839Z"
    }
   },
   "cell_type": "code",
   "source": [
    "noisy_images = images['noisy_images']\n",
    "all_x = data['all_x']\n",
    "all_y = data['all_y']\n",
    "all_z = data['all_z']\n",
    "\n",
    "xgrid = np.arange(-79,81,2)#-79:2:79;\n",
    "ygrid = np.arange(-119,-59,2)#-119:2:-57;\n",
    "zgrid = np.arange(-58,70,2)#-58:2:68;"
   ],
   "id": "2928d2c7fada8221",
   "outputs": [],
   "execution_count": 3
  },
  {
   "metadata": {
    "ExecuteTime": {
     "end_time": "2024-11-19T16:29:49.562151Z",
     "start_time": "2024-11-19T16:29:49.550280Z"
    }
   },
   "cell_type": "code",
   "source": "noisy_images.shape",
   "id": "51e33d138f5d89ac",
   "outputs": [
    {
     "data": {
      "text/plain": [
       "(32, 80, 64, 10)"
      ]
     },
     "execution_count": 4,
     "metadata": {},
     "output_type": "execute_result"
    }
   ],
   "execution_count": 4
  },
  {
   "metadata": {
    "ExecuteTime": {
     "end_time": "2024-11-19T16:29:49.619558Z",
     "start_time": "2024-11-19T16:29:49.598109Z"
    }
   },
   "cell_type": "code",
   "source": "all_x.shape",
   "id": "bf204ac8b4654c3f",
   "outputs": [
    {
     "data": {
      "text/plain": [
       "(38468,)"
      ]
     },
     "execution_count": 5,
     "metadata": {},
     "output_type": "execute_result"
    }
   ],
   "execution_count": 5
  },
  {
   "metadata": {
    "ExecuteTime": {
     "end_time": "2024-11-19T16:29:49.694801Z",
     "start_time": "2024-11-19T16:29:49.687810Z"
    }
   },
   "cell_type": "code",
   "source": [
    "locations = np.array([all_x, all_y, all_z])\n",
    "locations.shape"
   ],
   "id": "8be2575b8cb8cb4a",
   "outputs": [
    {
     "data": {
      "text/plain": [
       "(3, 38468)"
      ]
     },
     "execution_count": 6,
     "metadata": {},
     "output_type": "execute_result"
    }
   ],
   "execution_count": 6
  },
  {
   "metadata": {
    "ExecuteTime": {
     "end_time": "2024-11-19T16:29:49.770459Z",
     "start_time": "2024-11-19T16:29:49.754431Z"
    }
   },
   "cell_type": "code",
   "source": [
    "noisy_image = noisy_images[:,:,:, 4]\n",
    "noisy_image.shape"
   ],
   "id": "95808f0d22c01d7f",
   "outputs": [
    {
     "data": {
      "text/plain": [
       "(32, 80, 64)"
      ]
     },
     "execution_count": 7,
     "metadata": {},
     "output_type": "execute_result"
    }
   ],
   "execution_count": 7
  },
  {
   "metadata": {
    "ExecuteTime": {
     "end_time": "2024-11-19T16:29:49.847833Z",
     "start_time": "2024-11-19T16:29:49.835264Z"
    }
   },
   "cell_type": "code",
   "source": "xgrid",
   "id": "1b8ecec6d43be6ac",
   "outputs": [
    {
     "data": {
      "text/plain": [
       "array([-79, -77, -75, -73, -71, -69, -67, -65, -63, -61, -59, -57, -55,\n",
       "       -53, -51, -49, -47, -45, -43, -41, -39, -37, -35, -33, -31, -29,\n",
       "       -27, -25, -23, -21, -19, -17, -15, -13, -11,  -9,  -7,  -5,  -3,\n",
       "        -1,   1,   3,   5,   7,   9,  11,  13,  15,  17,  19,  21,  23,\n",
       "        25,  27,  29,  31,  33,  35,  37,  39,  41,  43,  45,  47,  49,\n",
       "        51,  53,  55,  57,  59,  61,  63,  65,  67,  69,  71,  73,  75,\n",
       "        77,  79])"
      ]
     },
     "execution_count": 8,
     "metadata": {},
     "output_type": "execute_result"
    }
   ],
   "execution_count": 8
  },
  {
   "metadata": {
    "ExecuteTime": {
     "end_time": "2024-11-19T16:31:21.268962Z",
     "start_time": "2024-11-19T16:31:21.262674Z"
    }
   },
   "cell_type": "code",
   "source": [
    "def LOCAscore(image, target_point):\n",
    "    ind = np.unravel_index(np.argmax(noisy_image, axis=None), noisy_image.shape)\n",
    "    image_point = [xgrid[ind[1]], ygrid[ind[0]], zgrid[ind[2]]]\n",
    "    localisation_error = np.linalg.norm(image_point - target_point)\n",
    "    return localisation_error\n",
    "\n",
    "\n",
    "def LOCA(processed_images, target_points):\n",
    "    LOCAimage = np.zeros(processed_images[...,0].shape)\n",
    "    for i in (range(processed_images.shape[3])):\n",
    "        score = LOCAscore(processed_images[...,i], target_points[:,i])\n",
    "        LOCAimage[np.argwhere(ygrid==target_points[1,i])[0][0], np.argwhere(xgrid==target_points[0,i])[0][0], np.argwhere(zgrid==target_points[2,i])[0][0]] = score\n",
    "    return LOCAimage"
   ],
   "id": "5a222c83e8575bec",
   "outputs": [],
   "execution_count": 17
  },
  {
   "metadata": {
    "ExecuteTime": {
     "end_time": "2024-11-19T16:36:01.476796Z",
     "start_time": "2024-11-19T16:36:01.447337Z"
    }
   },
   "cell_type": "code",
   "source": "thing = LOCA(noisy_images, locations)",
   "id": "e8966b9311452858",
   "outputs": [],
   "execution_count": 19
  },
  {
   "metadata": {
    "ExecuteTime": {
     "end_time": "2024-11-19T16:58:13.127665Z",
     "start_time": "2024-11-19T16:58:10.056811Z"
    }
   },
   "cell_type": "code",
   "source": [
    "colors = np.empty(thing.shape, dtype='object')\n",
    "colors[thing<np.quantile(thing[thing!=0], 0.25)] = 'purple'\n",
    "colors[thing>np.quantile(thing[thing!=0], 0.25)] = 'blue'\n",
    "colors[thing>np.quantile(thing[thing!=0], 0.5)] = 'green'\n",
    "colors[thing>np.quantile(thing[thing!=0], 0.75)] = 'red'\n",
    "\n",
    "\n",
    "ax = plt.figure().add_subplot(projection='3d')\n",
    "ax.voxels(thing, facecolors=colors)\n",
    "ax.set_aspect('equal')\n",
    "\n",
    "plt.show()"
   ],
   "id": "16e9c186e4fba438",
   "outputs": [
    {
     "data": {
      "text/plain": [
       "<Figure size 432x288 with 1 Axes>"
      ],
      "image/png": "[encoded data removed]"
     },
     "metadata": {
      "needs_background": "light"
     },
     "output_type": "display_data"
    }
   ],
   "execution_count": 28
  },
  {
   "metadata": {
    "ExecuteTime": {
     "end_time": "2024-11-19T16:57:16.070541Z",
     "start_time": "2024-11-19T16:57:16.048517Z"
    }
   },
   "cell_type": "code",
   "source": "np.quantile(thing, 0.25)",
   "id": "6ef713539bd2c707",
   "outputs": [
    {
     "data": {
      "text/plain": [
       "0.0"
      ]
     },
     "execution_count": 27,
     "metadata": {},
     "output_type": "execute_result"
    }
   ],
   "execution_count": 27
  },
  {
   "metadata": {},
   "cell_type": "code",
   "outputs": [],
   "execution_count": null,
   "source": "",
   "id": "e38fe047d4099a28"
  }
 ],
 "metadata": {
  "kernelspec": {
   "display_name": "Python 3",
   "language": "python",
   "name": "python3"
  },
  "language_info": {
   "codemirror_mode": {
    "name": "ipython",
    "version": 2
   },
   "file_extension": ".py",
   "mimetype": "text/x-python",
   "name": "python",
   "nbconvert_exporter": "python",
   "pygments_lexer": "ipython2",
   "version": "2.7.6"
  }
 },
 "nbformat": 4,
 "nbformat_minor": 5
}
