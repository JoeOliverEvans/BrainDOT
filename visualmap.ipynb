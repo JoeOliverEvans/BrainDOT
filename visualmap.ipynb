{
 "cells": [
  {
   "metadata": {
    "ExecuteTime": {
     "end_time": "2024-11-21T13:40:38.639278Z",
     "start_time": "2024-11-21T13:40:38.619126Z"
    }
   },
   "cell_type": "code",
   "source": [
    "import mat73\n",
    "import numpy as np\n",
    "import matplotlib.pyplot as plt\n",
    "import scipy\n",
    "import scipy.ndimage as ndimage\n",
    "import scipy.io as sio\n",
    "import pandas as pd\n",
    "from skimage import metrics\n",
    "from tqdm import tqdm"
   ],
   "id": "e5bdbbca6673a4d4",
   "outputs": [],
   "execution_count": 88
  },
  {
   "metadata": {
    "ExecuteTime": {
     "end_time": "2024-11-21T13:32:15.744818Z",
     "start_time": "2024-11-21T13:32:15.318899Z"
    }
   },
   "cell_type": "code",
   "source": [
    "images = mat73.loadmat(r'Datasets/VisualMapTest/images_CCW1Mesh_visualmap.mat')\n",
    "data = mat73.loadmat(r'Datasets/VisualMapTest/data_CCW1Mesh_visualmap.mat')"
   ],
   "id": "d0d4d49b93026768",
   "outputs": [],
   "execution_count": 53
  },
  {
   "metadata": {
    "ExecuteTime": {
     "end_time": "2024-11-21T13:32:15.811147Z",
     "start_time": "2024-11-21T13:32:15.779625Z"
    }
   },
   "cell_type": "code",
   "source": [
    "noisy_images = images['noisy_images']\n",
    "all_x = data['all_x']\n",
    "all_y = data['all_y']\n",
    "all_z = data['all_z']\n",
    "\n",
    "xgrid = np.arange(-79,81,2)#-79:2:79;\n",
    "ygrid = np.arange(-119,-59,2)#-119:2:-57;\n",
    "zgrid = np.arange(-58,70,2)#-58:2:68;\n",
    "\n",
    "locations = np.array([all_x, all_y, all_z])"
   ],
   "id": "2928d2c7fada8221",
   "outputs": [],
   "execution_count": 54
  },
  {
   "metadata": {
    "ExecuteTime": {
     "end_time": "2024-11-21T13:32:15.888214Z",
     "start_time": "2024-11-21T13:32:15.875800Z"
    }
   },
   "cell_type": "code",
   "source": [
    "noisy_image = noisy_images[:,:,:, 4]\n",
    "noisy_image.shape"
   ],
   "id": "95808f0d22c01d7f",
   "outputs": [
    {
     "data": {
      "text/plain": [
       "(32, 80, 64)"
      ]
     },
     "execution_count": 55,
     "metadata": {},
     "output_type": "execute_result"
    }
   ],
   "execution_count": 55
  },
  {
   "metadata": {
    "ExecuteTime": {
     "end_time": "2024-11-21T13:32:16.030192Z",
     "start_time": "2024-11-21T13:32:15.996146Z"
    }
   },
   "cell_type": "code",
   "source": [
    "def coordToIndex(coord):\n",
    "    return np.argwhere(ygrid==coord[1])[0][0], np.argwhere(xgrid==coord[0])[0][0], np.argwhere(zgrid==coord[2])[0][0]\n",
    "\n",
    "\n",
    "def indexToCoord(index):\n",
    "    if len(np.array(index).shape) == 2:\n",
    "        return np.array([xgrid[index[:,1]], ygrid[index[:,0]], zgrid[index[:,2]]]).T\n",
    "    else:\n",
    "        return np.array([xgrid[index[1]], ygrid[index[0]], zgrid[index[2]]]).T"
   ],
   "id": "28a9d4772f0b657e",
   "outputs": [],
   "execution_count": 56
  },
  {
   "metadata": {},
   "cell_type": "markdown",
   "source": "## Guy Perkins implementation",
   "id": "e51e6329d5dd7101"
  },
  {
   "metadata": {
    "ExecuteTime": {
     "end_time": "2024-11-21T13:32:16.126736Z",
     "start_time": "2024-11-21T13:32:16.109264Z"
    }
   },
   "cell_type": "code",
   "source": [
    "def LOCAscore(image, target_point):\n",
    "    \"\"\"\n",
    "    Distance from the max value of the image to the target point\n",
    "    :param image: \n",
    "    :param target_point: \n",
    "    :return: \n",
    "    \"\"\"\n",
    "    ind = np.unravel_index(np.argmax(image, axis=None), image.shape)\n",
    "    image_point = indexToCoord(ind)\n",
    "    localisation_error = np.linalg.norm(image_point - target_point)\n",
    "    return localisation_error\n",
    "\n",
    "\n",
    "def LOCA(processed_images, target_points):\n",
    "    LOCAimage = np.zeros(processed_images[...,0].shape)\n",
    "    for i in tqdm(range(processed_images.shape[3])):\n",
    "        score = LOCAscore(processed_images[...,i], target_points[:,i])\n",
    "        LOCAimage[coordToIndex(target_points[...,i])] = score\n",
    "    return LOCAimage"
   ],
   "id": "5a222c83e8575bec",
   "outputs": [],
   "execution_count": 57
  },
  {
   "metadata": {},
   "cell_type": "markdown",
   "source": "## White and Culver implementation",
   "id": "7e2f88abba8bc805"
  },
  {
   "metadata": {
    "ExecuteTime": {
     "end_time": "2024-11-21T14:17:03.742131Z",
     "start_time": "2024-11-21T14:17:03.727095Z"
    }
   },
   "cell_type": "code",
   "source": [
    "def LOCAscoreWhite(image, target_point):\n",
    "    \"\"\"\n",
    "    Distance from the centre of mass of the activation to the target point\n",
    "    :param image: \n",
    "    :param target_point: \n",
    "    :return: \n",
    "    \"\"\"\n",
    "    image_max = np.max(image)\n",
    "    ind = ndimage.center_of_mass(np.where(image>image_max/2, image, 0))\n",
    "    localisation_error = np.linalg.norm(np.array(ind) - coordToIndex(target_point))\n",
    "    return localisation_error * 2 #2mm voxels\n",
    "\n",
    "\n",
    "def LOCAWhite(processed_images, target_points):\n",
    "    LOCAimage = np.zeros(processed_images[...,0].shape)\n",
    "    for i in tqdm(range(processed_images.shape[3])):\n",
    "        score = LOCAscoreWhite(processed_images[...,i], target_points[:,i])\n",
    "        LOCAimage[coordToIndex(target_points[...,i])] = score\n",
    "    return LOCAimage"
   ],
   "id": "ec7ddaf90b984cc6",
   "outputs": [],
   "execution_count": 144
  },
  {
   "metadata": {
    "ExecuteTime": {
     "end_time": "2024-11-21T15:29:46.283498Z",
     "start_time": "2024-11-21T15:29:46.252187Z"
    }
   },
   "cell_type": "code",
   "source": [
    "def FWHMscore(image):\n",
    "    \"\"\"\n",
    "    Maximum distance between the two nodes that are more than or equal to 50% of the max reconstruction\n",
    "    :param image: \n",
    "    :return: \n",
    "    \"\"\"\n",
    "    image_max = np.max(image)\n",
    "    idxs = np.argwhere(image > image_max / 2)\n",
    "    score = 0\n",
    "    for idx in idxs:\n",
    "        newscore = np.max(np.linalg.norm(idxs - idx, axis=1)) * 2  #2mm voxels\n",
    "        if newscore > score:\n",
    "            score = newscore\n",
    "    return score\n",
    "\n",
    "\n",
    "def FWHM(processed_images, target_points):\n",
    "    FWHM_image = np.zeros(processed_images[..., 0].shape)\n",
    "    for i in tqdm(range(processed_images.shape[3])):\n",
    "        score = FWHMscore(processed_images[..., i])\n",
    "        FWHM_image[coordToIndex(target_points[..., i])] = score\n",
    "    return FWHM_image\n",
    "\n",
    "    image_max = np.max(image)\n",
    "    idxs = np.argwhere(image>image_max/2)\n",
    "    big_idxs = np.broadcast_to(idxs, [idxs.shape[0],idxs.shape[0],idxs.shape[1]])\n",
    "    score = np.max(np.linalg.norm(np.swapaxes(big_idxs, 0, 1) - idxs, axis=2))\n",
    "    return score * 2 #2mm voxels\n",
    "\n",
    "\n",
    "def FWHM(processed_images, target_points):\n",
    "    FWHM_image = np.zeros(processed_images[...,0].shape)\n",
    "    for i in tqdm(range(processed_images.shape[3])):\n",
    "        score = FWHMscore(processed_images[...,i])\n",
    "        FWHM_image[coordToIndex(target_points[...,i])] = score\n",
    "    return FWHM_image"
   ],
   "id": "6ef713539bd2c707",
   "outputs": [],
   "execution_count": 292
  },
  {
   "metadata": {
    "ExecuteTime": {
     "end_time": "2024-11-21T15:04:24.900301Z",
     "start_time": "2024-11-21T15:04:24.869597Z"
    }
   },
   "cell_type": "code",
   "source": [
    "def ERESscore(image, target_point):\n",
    "    \"\"\"\n",
    "    Distance from the target point to the furthest value greater than 50% of the max value\n",
    "    :param image: \n",
    "    :param target_point: \n",
    "    :return: \n",
    "    \"\"\"\n",
    "    image_max = np.max(image)\n",
    "    idxs = np.argwhere(image>image_max/2)\n",
    "    effective_resolution = np.max(np.linalg.norm(indexToCoord(idxs) - target_point, axis=1)) * 2\n",
    "    return effective_resolution\n",
    "\n",
    "\n",
    "def ERES(processed_images, target_points):\n",
    "    ERES_image = np.zeros(processed_images[...,0].shape)\n",
    "    for i in tqdm(range(processed_images.shape[3])):\n",
    "        score = ERESscore(processed_images[...,i], target_points[:,i])\n",
    "        ERES_image[coordToIndex(target_points[...,i])] = score\n",
    "    return ERES_image"
   ],
   "id": "fe59f3e318973b6",
   "outputs": [],
   "execution_count": 272
  },
  {
   "metadata": {},
   "cell_type": "markdown",
   "source": "## Testing",
   "id": "983996d8dc01f406"
  },
  {
   "metadata": {
    "ExecuteTime": {
     "end_time": "2024-11-21T15:04:25.273729Z",
     "start_time": "2024-11-21T15:04:25.267729Z"
    }
   },
   "cell_type": "code",
   "source": [
    "test_truth = np.zeros((10,10,10))\n",
    "test_truth[2,2,2] = 1\n",
    "test_truth[2,1,1] = 1"
   ],
   "id": "63bfe691678b80e2",
   "outputs": [],
   "execution_count": 273
  },
  {
   "metadata": {
    "ExecuteTime": {
     "end_time": "2024-11-21T15:04:25.549627Z",
     "start_time": "2024-11-21T15:04:25.529283Z"
    }
   },
   "cell_type": "code",
   "source": "LOCAscoreWhite(test_truth, indexToCoord([2,2,1]))",
   "id": "9b7bfcf977a87c28",
   "outputs": [
    {
     "data": {
      "text/plain": [
       "1.4142135623730951"
      ]
     },
     "execution_count": 274,
     "metadata": {},
     "output_type": "execute_result"
    }
   ],
   "execution_count": 274
  },
  {
   "metadata": {
    "ExecuteTime": {
     "end_time": "2024-11-21T15:04:25.850313Z",
     "start_time": "2024-11-21T15:04:25.834562Z"
    }
   },
   "cell_type": "code",
   "source": "FWHMscore(test_truth)",
   "id": "bf87502774b73044",
   "outputs": [
    {
     "data": {
      "text/plain": [
       "2.8284271247461903"
      ]
     },
     "execution_count": 275,
     "metadata": {},
     "output_type": "execute_result"
    }
   ],
   "execution_count": 275
  },
  {
   "metadata": {
    "ExecuteTime": {
     "end_time": "2024-11-21T15:04:26.223885Z",
     "start_time": "2024-11-21T15:04:26.207134Z"
    }
   },
   "cell_type": "code",
   "source": "ERESscore(test_truth, indexToCoord([2,2,3]))",
   "id": "7097a46ea0a3b395",
   "outputs": [
    {
     "data": {
      "text/plain": [
       "8.94427190999916"
      ]
     },
     "execution_count": 276,
     "metadata": {},
     "output_type": "execute_result"
    }
   ],
   "execution_count": 276
  },
  {
   "metadata": {},
   "cell_type": "markdown",
   "source": "## Processing data",
   "id": "8ad0d7f4c5a3e99a"
  },
  {
   "metadata": {
    "ExecuteTime": {
     "end_time": "2024-11-21T15:04:27.027837Z",
     "start_time": "2024-11-21T15:04:27.012331Z"
    }
   },
   "cell_type": "code",
   "source": [
    "unsmoothed_images = images['noisy_images']\n",
    "unet_images = images['recon2']\n",
    "old_unet_images = images2['recon2']\n",
    "smooth_images = images['smooth_images']"
   ],
   "id": "e26dd9d902d92a1b",
   "outputs": [
    {
     "ename": "KeyError",
     "evalue": "'recon2'",
     "output_type": "error",
     "traceback": [
      "\u001B[1;31m---------------------------------------------------------------------------\u001B[0m",
      "\u001B[1;31mKeyError\u001B[0m                                  Traceback (most recent call last)",
      "\u001B[1;32m<ipython-input-277-8a91dee9ab5b>\u001B[0m in \u001B[0;36m<module>\u001B[1;34m\u001B[0m\n\u001B[0;32m      1\u001B[0m \u001B[0munsmoothed_images\u001B[0m \u001B[1;33m=\u001B[0m \u001B[0mimages\u001B[0m\u001B[1;33m[\u001B[0m\u001B[1;34m'noisy_images'\u001B[0m\u001B[1;33m]\u001B[0m\u001B[1;33m\u001B[0m\u001B[1;33m\u001B[0m\u001B[0m\n\u001B[1;32m----> 2\u001B[1;33m \u001B[0munet_images\u001B[0m \u001B[1;33m=\u001B[0m \u001B[0mimages\u001B[0m\u001B[1;33m[\u001B[0m\u001B[1;34m'recon2'\u001B[0m\u001B[1;33m]\u001B[0m\u001B[1;33m\u001B[0m\u001B[1;33m\u001B[0m\u001B[0m\n\u001B[0m\u001B[0;32m      3\u001B[0m \u001B[0mold_unet_images\u001B[0m \u001B[1;33m=\u001B[0m \u001B[0mimages2\u001B[0m\u001B[1;33m[\u001B[0m\u001B[1;34m'recon2'\u001B[0m\u001B[1;33m]\u001B[0m\u001B[1;33m\u001B[0m\u001B[1;33m\u001B[0m\u001B[0m\n\u001B[0;32m      4\u001B[0m \u001B[0msmooth_images\u001B[0m \u001B[1;33m=\u001B[0m \u001B[0mimages\u001B[0m\u001B[1;33m[\u001B[0m\u001B[1;34m'smooth_images'\u001B[0m\u001B[1;33m]\u001B[0m\u001B[1;33m\u001B[0m\u001B[1;33m\u001B[0m\u001B[0m\n",
      "\u001B[1;31mKeyError\u001B[0m: 'recon2'"
     ]
    }
   ],
   "execution_count": 277
  },
  {
   "metadata": {
    "ExecuteTime": {
     "end_time": "2024-11-21T15:04:34.008732Z",
     "start_time": "2024-11-21T15:04:33.976780Z"
    }
   },
   "cell_type": "code",
   "source": [
    "unsmoothed_LOCA = LOCAWhite(unsmoothed_images, locations)\n",
    "unet_LOCA = LOCAWhite(unet_images, locations)\n",
    "old_unet_LOCA = LOCAWhite(old_unet_images, locations)\n",
    "smooth_LOCA = LOCAWhite(smooth_images, locations)"
   ],
   "id": "ca9dc31784469bf3",
   "outputs": [
    {
     "name": "stderr",
     "output_type": "stream",
     "text": [
      "100%|██████████| 10/10 [00:00<00:00, 458.64it/s]\n"
     ]
    },
    {
     "ename": "NameError",
     "evalue": "name 'unet_images' is not defined",
     "output_type": "error",
     "traceback": [
      "\u001B[1;31m---------------------------------------------------------------------------\u001B[0m",
      "\u001B[1;31mNameError\u001B[0m                                 Traceback (most recent call last)",
      "\u001B[1;32m<ipython-input-284-b45521e113c2>\u001B[0m in \u001B[0;36m<module>\u001B[1;34m\u001B[0m\n\u001B[0;32m      1\u001B[0m \u001B[0munsmoothed_LOCA\u001B[0m \u001B[1;33m=\u001B[0m \u001B[0mLOCAWhite\u001B[0m\u001B[1;33m(\u001B[0m\u001B[0munsmoothed_images\u001B[0m\u001B[1;33m,\u001B[0m \u001B[0mlocations\u001B[0m\u001B[1;33m)\u001B[0m\u001B[1;33m\u001B[0m\u001B[1;33m\u001B[0m\u001B[0m\n\u001B[1;32m----> 2\u001B[1;33m \u001B[0munet_LOCA\u001B[0m \u001B[1;33m=\u001B[0m \u001B[0mLOCAWhite\u001B[0m\u001B[1;33m(\u001B[0m\u001B[0munet_images\u001B[0m\u001B[1;33m,\u001B[0m \u001B[0mlocations\u001B[0m\u001B[1;33m)\u001B[0m\u001B[1;33m\u001B[0m\u001B[1;33m\u001B[0m\u001B[0m\n\u001B[0m\u001B[0;32m      3\u001B[0m \u001B[0mold_unet_LOCA\u001B[0m \u001B[1;33m=\u001B[0m \u001B[0mLOCAWhite\u001B[0m\u001B[1;33m(\u001B[0m\u001B[0mold_unet_images\u001B[0m\u001B[1;33m,\u001B[0m \u001B[0mlocations\u001B[0m\u001B[1;33m)\u001B[0m\u001B[1;33m\u001B[0m\u001B[1;33m\u001B[0m\u001B[0m\n\u001B[0;32m      4\u001B[0m \u001B[0msmooth_LOCA\u001B[0m \u001B[1;33m=\u001B[0m \u001B[0mLOCAWhite\u001B[0m\u001B[1;33m(\u001B[0m\u001B[0msmooth_images\u001B[0m\u001B[1;33m,\u001B[0m \u001B[0mlocations\u001B[0m\u001B[1;33m)\u001B[0m\u001B[1;33m\u001B[0m\u001B[1;33m\u001B[0m\u001B[0m\n",
      "\u001B[1;31mNameError\u001B[0m: name 'unet_images' is not defined"
     ]
    }
   ],
   "execution_count": 284
  },
  {
   "metadata": {
    "ExecuteTime": {
     "end_time": "2024-11-21T15:04:34.614842Z",
     "start_time": "2024-11-21T15:04:34.542055Z"
    }
   },
   "cell_type": "code",
   "source": [
    "unsmoothed_FWHM = FWHM(unsmoothed_images, locations)\n",
    "unet_FWHM = FWHM(unet_images, locations)\n",
    "old_unet_FWHM = FWHM(old_unet_images, locations)\n",
    "smooth_FWHM = FWHM(smooth_images, locations)"
   ],
   "id": "154c89f0a101cf99",
   "outputs": [
    {
     "name": "stderr",
     "output_type": "stream",
     "text": [
      "100%|██████████| 10/10 [00:00<00:00, 214.16it/s]\n"
     ]
    },
    {
     "ename": "NameError",
     "evalue": "name 'unet_images' is not defined",
     "output_type": "error",
     "traceback": [
      "\u001B[1;31m---------------------------------------------------------------------------\u001B[0m",
      "\u001B[1;31mNameError\u001B[0m                                 Traceback (most recent call last)",
      "\u001B[1;32m<ipython-input-285-48aca4e10f2e>\u001B[0m in \u001B[0;36m<module>\u001B[1;34m\u001B[0m\n\u001B[0;32m      1\u001B[0m \u001B[0munsmoothed_FWHM\u001B[0m \u001B[1;33m=\u001B[0m \u001B[0mFWHM\u001B[0m\u001B[1;33m(\u001B[0m\u001B[0munsmoothed_images\u001B[0m\u001B[1;33m,\u001B[0m \u001B[0mlocations\u001B[0m\u001B[1;33m)\u001B[0m\u001B[1;33m\u001B[0m\u001B[1;33m\u001B[0m\u001B[0m\n\u001B[1;32m----> 2\u001B[1;33m \u001B[0munet_FWHM\u001B[0m \u001B[1;33m=\u001B[0m \u001B[0mFWHM\u001B[0m\u001B[1;33m(\u001B[0m\u001B[0munet_images\u001B[0m\u001B[1;33m,\u001B[0m \u001B[0mlocations\u001B[0m\u001B[1;33m)\u001B[0m\u001B[1;33m\u001B[0m\u001B[1;33m\u001B[0m\u001B[0m\n\u001B[0m\u001B[0;32m      3\u001B[0m \u001B[0mold_unet_FWHM\u001B[0m \u001B[1;33m=\u001B[0m \u001B[0mFWHM\u001B[0m\u001B[1;33m(\u001B[0m\u001B[0mold_unet_images\u001B[0m\u001B[1;33m,\u001B[0m \u001B[0mlocations\u001B[0m\u001B[1;33m)\u001B[0m\u001B[1;33m\u001B[0m\u001B[1;33m\u001B[0m\u001B[0m\n\u001B[0;32m      4\u001B[0m \u001B[0msmooth_FWHM\u001B[0m \u001B[1;33m=\u001B[0m \u001B[0mFWHM\u001B[0m\u001B[1;33m(\u001B[0m\u001B[0msmooth_images\u001B[0m\u001B[1;33m,\u001B[0m \u001B[0mlocations\u001B[0m\u001B[1;33m)\u001B[0m\u001B[1;33m\u001B[0m\u001B[1;33m\u001B[0m\u001B[0m\n",
      "\u001B[1;31mNameError\u001B[0m: name 'unet_images' is not defined"
     ]
    }
   ],
   "execution_count": 285
  },
  {
   "metadata": {
    "ExecuteTime": {
     "end_time": "2024-11-21T15:04:35.275681Z",
     "start_time": "2024-11-21T15:04:35.237749Z"
    }
   },
   "cell_type": "code",
   "source": [
    "unsmoothed_ERES = ERES(unsmoothed_images, locations)\n",
    "unet_ERES = ERES(unet_images, locations)\n",
    "old_unet_ERES = ERES(old_unet_images, locations)\n",
    "smooth_ERES = ERES(smooth_images, locations)"
   ],
   "id": "58a6d0c9336dd51",
   "outputs": [
    {
     "name": "stderr",
     "output_type": "stream",
     "text": [
      "100%|██████████| 10/10 [00:00<00:00, 3799.88it/s]\n"
     ]
    },
    {
     "ename": "NameError",
     "evalue": "name 'unet_images' is not defined",
     "output_type": "error",
     "traceback": [
      "\u001B[1;31m---------------------------------------------------------------------------\u001B[0m",
      "\u001B[1;31mNameError\u001B[0m                                 Traceback (most recent call last)",
      "\u001B[1;32m<ipython-input-286-0c0b990d720e>\u001B[0m in \u001B[0;36m<module>\u001B[1;34m\u001B[0m\n\u001B[0;32m      1\u001B[0m \u001B[0munsmoothed_ERES\u001B[0m \u001B[1;33m=\u001B[0m \u001B[0mERES\u001B[0m\u001B[1;33m(\u001B[0m\u001B[0munsmoothed_images\u001B[0m\u001B[1;33m,\u001B[0m \u001B[0mlocations\u001B[0m\u001B[1;33m)\u001B[0m\u001B[1;33m\u001B[0m\u001B[1;33m\u001B[0m\u001B[0m\n\u001B[1;32m----> 2\u001B[1;33m \u001B[0munet_ERES\u001B[0m \u001B[1;33m=\u001B[0m \u001B[0mERES\u001B[0m\u001B[1;33m(\u001B[0m\u001B[0munet_images\u001B[0m\u001B[1;33m,\u001B[0m \u001B[0mlocations\u001B[0m\u001B[1;33m)\u001B[0m\u001B[1;33m\u001B[0m\u001B[1;33m\u001B[0m\u001B[0m\n\u001B[0m\u001B[0;32m      3\u001B[0m \u001B[0mold_unet_ERES\u001B[0m \u001B[1;33m=\u001B[0m \u001B[0mERES\u001B[0m\u001B[1;33m(\u001B[0m\u001B[0mold_unet_images\u001B[0m\u001B[1;33m,\u001B[0m \u001B[0mlocations\u001B[0m\u001B[1;33m)\u001B[0m\u001B[1;33m\u001B[0m\u001B[1;33m\u001B[0m\u001B[0m\n\u001B[0;32m      4\u001B[0m \u001B[0msmooth_ERES\u001B[0m \u001B[1;33m=\u001B[0m \u001B[0mERES\u001B[0m\u001B[1;33m(\u001B[0m\u001B[0msmooth_images\u001B[0m\u001B[1;33m,\u001B[0m \u001B[0mlocations\u001B[0m\u001B[1;33m)\u001B[0m\u001B[1;33m\u001B[0m\u001B[1;33m\u001B[0m\u001B[0m\n",
      "\u001B[1;31mNameError\u001B[0m: name 'unet_images' is not defined"
     ]
    }
   ],
   "execution_count": 286
  },
  {
   "metadata": {},
   "cell_type": "code",
   "outputs": [],
   "execution_count": null,
   "source": "sio.savemat('visualmap.mat', {'unsmoothed_LOCA': unsmoothed_LOCA, 'unet_LOCA': unet_LOCA, 'old_unet_LOCA': old_unet_LOCA, 'smooth_LOCA': smooth_LOCA, 'unsmoothed_FWHM': unsmoothed_FWHM, 'unet_FWHM': unet_FWHM, 'old_unet_FWHM': old_unet_FWHM, 'smooth_FWHM': smooth_FWHM, 'unsmoothed_ERES': unsmoothed_ERES, 'unet_ERES': unet_ERES, 'old_unet_ERES': old_unet_ERES,'smooth_ERES': smooth_ERES})",
   "id": "aeecc368b5ae6fed"
  },
  {
   "metadata": {},
   "cell_type": "code",
   "outputs": [],
   "execution_count": null,
   "source": [
    "thing = smooth_ERES\n",
    "\n",
    "colors = np.empty(thing.shape, dtype='object')\n",
    "colors[thing < np.quantile(thing[thing != 0], 0.25)] = 'purple'\n",
    "colors[thing > np.quantile(thing[thing != 0], 0.25)] = 'blue'\n",
    "colors[thing > np.quantile(thing[thing != 0], 0.5)] = 'green'\n",
    "colors[thing > np.quantile(thing[thing != 0], 0.75)] = 'red'\n",
    "\n",
    "ax = plt.figure().add_subplot(projection='3d')\n",
    "ax.voxels(thing, facecolors=colors)\n",
    "ax.set_aspect('equal')\n",
    "\n",
    "plt.show()"
   ],
   "id": "64442a214da3b67d"
  },
  {
   "metadata": {
    "ExecuteTime": {
     "end_time": "2024-11-21T14:37:31.657283Z",
     "start_time": "2024-11-21T14:37:31.631183Z"
    }
   },
   "cell_type": "code",
   "source": "(np.arange(1,4) + np.ones([2]))",
   "id": "7c4dd0d64c3cd39e",
   "outputs": [
    {
     "ename": "ValueError",
     "evalue": "operands could not be broadcast together with shapes (3,) (2,) ",
     "output_type": "error",
     "traceback": [
      "\u001B[1;31m---------------------------------------------------------------------------\u001B[0m",
      "\u001B[1;31mValueError\u001B[0m                                Traceback (most recent call last)",
      "\u001B[1;32m<ipython-input-154-37fccca6c322>\u001B[0m in \u001B[0;36m<module>\u001B[1;34m\u001B[0m\n\u001B[1;32m----> 1\u001B[1;33m \u001B[1;33m(\u001B[0m\u001B[0mnp\u001B[0m\u001B[1;33m.\u001B[0m\u001B[0marange\u001B[0m\u001B[1;33m(\u001B[0m\u001B[1;36m1\u001B[0m\u001B[1;33m,\u001B[0m\u001B[1;36m4\u001B[0m\u001B[1;33m)\u001B[0m \u001B[1;33m+\u001B[0m \u001B[0mnp\u001B[0m\u001B[1;33m.\u001B[0m\u001B[0mones\u001B[0m\u001B[1;33m(\u001B[0m\u001B[1;33m[\u001B[0m\u001B[1;36m2\u001B[0m\u001B[1;33m]\u001B[0m\u001B[1;33m)\u001B[0m\u001B[1;33m)\u001B[0m\u001B[1;33m\u001B[0m\u001B[1;33m\u001B[0m\u001B[0m\n\u001B[0m",
      "\u001B[1;31mValueError\u001B[0m: operands could not be broadcast together with shapes (3,) (2,) "
     ]
    }
   ],
   "execution_count": 154
  },
  {
   "metadata": {
    "ExecuteTime": {
     "end_time": "2024-11-21T14:42:41.318641Z",
     "start_time": "2024-11-21T14:42:41.272074Z"
    }
   },
   "cell_type": "code",
   "source": [
    "l = np.arange(1,4)\n",
    "np.broadcast_to(l, [l.shape,l.shape])\n"
   ],
   "id": "8c5c5b517468f7d6",
   "outputs": [
    {
     "ename": "TypeError",
     "evalue": "'<' not supported between instances of 'tuple' and 'int'",
     "output_type": "error",
     "traceback": [
      "\u001B[1;31m---------------------------------------------------------------------------\u001B[0m",
      "\u001B[1;31mTypeError\u001B[0m                                 Traceback (most recent call last)",
      "\u001B[1;32m<ipython-input-177-d300d0cd3332>\u001B[0m in \u001B[0;36m<module>\u001B[1;34m\u001B[0m\n\u001B[0;32m      1\u001B[0m \u001B[0ml\u001B[0m \u001B[1;33m=\u001B[0m \u001B[0mnp\u001B[0m\u001B[1;33m.\u001B[0m\u001B[0marange\u001B[0m\u001B[1;33m(\u001B[0m\u001B[1;36m1\u001B[0m\u001B[1;33m,\u001B[0m\u001B[1;36m4\u001B[0m\u001B[1;33m)\u001B[0m\u001B[1;33m\u001B[0m\u001B[1;33m\u001B[0m\u001B[0m\n\u001B[1;32m----> 2\u001B[1;33m \u001B[0mnp\u001B[0m\u001B[1;33m.\u001B[0m\u001B[0mbroadcast_to\u001B[0m\u001B[1;33m(\u001B[0m\u001B[0ml\u001B[0m\u001B[1;33m,\u001B[0m \u001B[1;33m[\u001B[0m\u001B[0ml\u001B[0m\u001B[1;33m.\u001B[0m\u001B[0mshape\u001B[0m\u001B[1;33m,\u001B[0m\u001B[0ml\u001B[0m\u001B[1;33m.\u001B[0m\u001B[0mshape\u001B[0m\u001B[1;33m]\u001B[0m\u001B[1;33m)\u001B[0m\u001B[1;33m\u001B[0m\u001B[1;33m\u001B[0m\u001B[0m\n\u001B[0m\u001B[0;32m      3\u001B[0m \u001B[1;33m\u001B[0m\u001B[0m\n",
      "\u001B[1;32m~\\anaconda3\\lib\\site-packages\\numpy\\core\\overrides.py\u001B[0m in \u001B[0;36mbroadcast_to\u001B[1;34m(*args, **kwargs)\u001B[0m\n",
      "\u001B[1;32m~\\anaconda3\\lib\\site-packages\\numpy\\lib\\stride_tricks.py\u001B[0m in \u001B[0;36mbroadcast_to\u001B[1;34m(array, shape, subok)\u001B[0m\n\u001B[0;32m    411\u001B[0m            [1, 2, 3]])\n\u001B[0;32m    412\u001B[0m     \"\"\"\n\u001B[1;32m--> 413\u001B[1;33m     \u001B[1;32mreturn\u001B[0m \u001B[0m_broadcast_to\u001B[0m\u001B[1;33m(\u001B[0m\u001B[0marray\u001B[0m\u001B[1;33m,\u001B[0m \u001B[0mshape\u001B[0m\u001B[1;33m,\u001B[0m \u001B[0msubok\u001B[0m\u001B[1;33m=\u001B[0m\u001B[0msubok\u001B[0m\u001B[1;33m,\u001B[0m \u001B[0mreadonly\u001B[0m\u001B[1;33m=\u001B[0m\u001B[1;32mTrue\u001B[0m\u001B[1;33m)\u001B[0m\u001B[1;33m\u001B[0m\u001B[1;33m\u001B[0m\u001B[0m\n\u001B[0m\u001B[0;32m    414\u001B[0m \u001B[1;33m\u001B[0m\u001B[0m\n\u001B[0;32m    415\u001B[0m \u001B[1;33m\u001B[0m\u001B[0m\n",
      "\u001B[1;32m~\\anaconda3\\lib\\site-packages\\numpy\\lib\\stride_tricks.py\u001B[0m in \u001B[0;36m_broadcast_to\u001B[1;34m(array, shape, subok, readonly)\u001B[0m\n\u001B[0;32m    343\u001B[0m     \u001B[1;32mif\u001B[0m \u001B[1;32mnot\u001B[0m \u001B[0mshape\u001B[0m \u001B[1;32mand\u001B[0m \u001B[0marray\u001B[0m\u001B[1;33m.\u001B[0m\u001B[0mshape\u001B[0m\u001B[1;33m:\u001B[0m\u001B[1;33m\u001B[0m\u001B[1;33m\u001B[0m\u001B[0m\n\u001B[0;32m    344\u001B[0m         \u001B[1;32mraise\u001B[0m \u001B[0mValueError\u001B[0m\u001B[1;33m(\u001B[0m\u001B[1;34m'cannot broadcast a non-scalar to a scalar array'\u001B[0m\u001B[1;33m)\u001B[0m\u001B[1;33m\u001B[0m\u001B[1;33m\u001B[0m\u001B[0m\n\u001B[1;32m--> 345\u001B[1;33m     \u001B[1;32mif\u001B[0m \u001B[0many\u001B[0m\u001B[1;33m(\u001B[0m\u001B[0msize\u001B[0m \u001B[1;33m<\u001B[0m \u001B[1;36m0\u001B[0m \u001B[1;32mfor\u001B[0m \u001B[0msize\u001B[0m \u001B[1;32min\u001B[0m \u001B[0mshape\u001B[0m\u001B[1;33m)\u001B[0m\u001B[1;33m:\u001B[0m\u001B[1;33m\u001B[0m\u001B[1;33m\u001B[0m\u001B[0m\n\u001B[0m\u001B[0;32m    346\u001B[0m         raise ValueError('all elements of broadcast shape must be non-'\n\u001B[0;32m    347\u001B[0m                          'negative')\n",
      "\u001B[1;32m~\\anaconda3\\lib\\site-packages\\numpy\\lib\\stride_tricks.py\u001B[0m in \u001B[0;36m<genexpr>\u001B[1;34m(.0)\u001B[0m\n\u001B[0;32m    343\u001B[0m     \u001B[1;32mif\u001B[0m \u001B[1;32mnot\u001B[0m \u001B[0mshape\u001B[0m \u001B[1;32mand\u001B[0m \u001B[0marray\u001B[0m\u001B[1;33m.\u001B[0m\u001B[0mshape\u001B[0m\u001B[1;33m:\u001B[0m\u001B[1;33m\u001B[0m\u001B[1;33m\u001B[0m\u001B[0m\n\u001B[0;32m    344\u001B[0m         \u001B[1;32mraise\u001B[0m \u001B[0mValueError\u001B[0m\u001B[1;33m(\u001B[0m\u001B[1;34m'cannot broadcast a non-scalar to a scalar array'\u001B[0m\u001B[1;33m)\u001B[0m\u001B[1;33m\u001B[0m\u001B[1;33m\u001B[0m\u001B[0m\n\u001B[1;32m--> 345\u001B[1;33m     \u001B[1;32mif\u001B[0m \u001B[0many\u001B[0m\u001B[1;33m(\u001B[0m\u001B[0msize\u001B[0m \u001B[1;33m<\u001B[0m \u001B[1;36m0\u001B[0m \u001B[1;32mfor\u001B[0m \u001B[0msize\u001B[0m \u001B[1;32min\u001B[0m \u001B[0mshape\u001B[0m\u001B[1;33m)\u001B[0m\u001B[1;33m:\u001B[0m\u001B[1;33m\u001B[0m\u001B[1;33m\u001B[0m\u001B[0m\n\u001B[0m\u001B[0;32m    346\u001B[0m         raise ValueError('all elements of broadcast shape must be non-'\n\u001B[0;32m    347\u001B[0m                          'negative')\n",
      "\u001B[1;31mTypeError\u001B[0m: '<' not supported between instances of 'tuple' and 'int'"
     ]
    }
   ],
   "execution_count": 177
  },
  {
   "metadata": {
    "ExecuteTime": {
     "end_time": "2024-11-21T14:40:06.823331Z",
     "start_time": "2024-11-21T14:40:06.809998Z"
    }
   },
   "cell_type": "code",
   "source": "np.ones([2])",
   "id": "a5657f29a578acb6",
   "outputs": [
    {
     "data": {
      "text/plain": [
       "array([1., 1.])"
      ]
     },
     "execution_count": 158,
     "metadata": {},
     "output_type": "execute_result"
    }
   ],
   "execution_count": 158
  },
  {
   "metadata": {},
   "cell_type": "code",
   "outputs": [],
   "execution_count": null,
   "source": "",
   "id": "76582c78324b20ac"
  }
 ],
 "metadata": {
  "kernelspec": {
   "display_name": "Python 3",
   "language": "python",
   "name": "python3"
  },
  "language_info": {
   "codemirror_mode": {
    "name": "ipython",
    "version": 2
   },
   "file_extension": ".py",
   "mimetype": "text/x-python",
   "name": "python",
   "nbconvert_exporter": "python",
   "pygments_lexer": "ipython2",
   "version": "2.7.6"
  }
 },
 "nbformat": 4,
 "nbformat_minor": 5
}
