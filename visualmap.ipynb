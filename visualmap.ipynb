{
 "cells": [
  {
   "metadata": {
    "ExecuteTime": {
     "end_time": "2024-11-20T16:09:01.087173Z",
     "start_time": "2024-11-20T16:09:01.066516Z"
    }
   },
   "cell_type": "code",
   "source": [
    "import mat73\n",
    "import numpy as np\n",
    "import matplotlib.pyplot as plt\n",
    "import scipy\n",
    "import scipy.io as sio\n",
    "import pandas as pd\n",
    "from skimage import metrics\n",
    "from tqdm import tqdm"
   ],
   "id": "e5bdbbca6673a4d4",
   "outputs": [],
   "execution_count": 2
  },
  {
   "metadata": {
    "ExecuteTime": {
     "end_time": "2024-11-20T16:09:01.748507Z",
     "start_time": "2024-11-20T16:09:01.474031Z"
    }
   },
   "cell_type": "code",
   "source": [
    "images = mat73.loadmat(r'Datasets/VisualMapTest/images_CCW1Mesh_visualmap.mat')\n",
    "data = mat73.loadmat(r'Datasets/VisualMapTest/data_CCW1Mesh_visualmap.mat')"
   ],
   "id": "d0d4d49b93026768",
   "outputs": [],
   "execution_count": 3
  },
  {
   "metadata": {
    "ExecuteTime": {
     "end_time": "2024-11-20T16:09:01.848940Z",
     "start_time": "2024-11-20T16:09:01.834704Z"
    }
   },
   "cell_type": "code",
   "source": [
    "noisy_images = images['noisy_images']\n",
    "all_x = data['all_x']\n",
    "all_y = data['all_y']\n",
    "all_z = data['all_z']\n",
    "\n",
    "xgrid = np.arange(-79,81,2)#-79:2:79;\n",
    "ygrid = np.arange(-119,-59,2)#-119:2:-57;\n",
    "zgrid = np.arange(-58,70,2)#-58:2:68;"
   ],
   "id": "2928d2c7fada8221",
   "outputs": [],
   "execution_count": 4
  },
  {
   "metadata": {
    "ExecuteTime": {
     "end_time": "2024-11-20T16:09:02.149813Z",
     "start_time": "2024-11-20T16:09:02.121618Z"
    }
   },
   "cell_type": "code",
   "source": "noisy_images.shape",
   "id": "51e33d138f5d89ac",
   "outputs": [
    {
     "data": {
      "text/plain": [
       "(32, 80, 64, 10)"
      ]
     },
     "execution_count": 5,
     "metadata": {},
     "output_type": "execute_result"
    }
   ],
   "execution_count": 5
  },
  {
   "metadata": {
    "ExecuteTime": {
     "end_time": "2024-11-20T16:09:02.638303Z",
     "start_time": "2024-11-20T16:09:02.622679Z"
    }
   },
   "cell_type": "code",
   "source": "all_x.shape",
   "id": "bf204ac8b4654c3f",
   "outputs": [
    {
     "data": {
      "text/plain": [
       "(38468,)"
      ]
     },
     "execution_count": 6,
     "metadata": {},
     "output_type": "execute_result"
    }
   ],
   "execution_count": 6
  },
  {
   "metadata": {
    "ExecuteTime": {
     "end_time": "2024-11-20T16:09:02.990188Z",
     "start_time": "2024-11-20T16:09:02.981555Z"
    }
   },
   "cell_type": "code",
   "source": [
    "locations = np.array([all_x, all_y, all_z])\n",
    "locations.shape"
   ],
   "id": "8be2575b8cb8cb4a",
   "outputs": [
    {
     "data": {
      "text/plain": [
       "(3, 38468)"
      ]
     },
     "execution_count": 7,
     "metadata": {},
     "output_type": "execute_result"
    }
   ],
   "execution_count": 7
  },
  {
   "metadata": {
    "ExecuteTime": {
     "end_time": "2024-11-20T16:09:03.301853Z",
     "start_time": "2024-11-20T16:09:03.293855Z"
    }
   },
   "cell_type": "code",
   "source": [
    "noisy_image = noisy_images[:,:,:, 4]\n",
    "noisy_image.shape"
   ],
   "id": "95808f0d22c01d7f",
   "outputs": [
    {
     "data": {
      "text/plain": [
       "(32, 80, 64)"
      ]
     },
     "execution_count": 8,
     "metadata": {},
     "output_type": "execute_result"
    }
   ],
   "execution_count": 8
  },
  {
   "metadata": {
    "ExecuteTime": {
     "end_time": "2024-11-20T16:09:03.621267Z",
     "start_time": "2024-11-20T16:09:03.602317Z"
    }
   },
   "cell_type": "code",
   "source": "xgrid",
   "id": "1b8ecec6d43be6ac",
   "outputs": [
    {
     "data": {
      "text/plain": [
       "array([-79, -77, -75, -73, -71, -69, -67, -65, -63, -61, -59, -57, -55,\n",
       "       -53, -51, -49, -47, -45, -43, -41, -39, -37, -35, -33, -31, -29,\n",
       "       -27, -25, -23, -21, -19, -17, -15, -13, -11,  -9,  -7,  -5,  -3,\n",
       "        -1,   1,   3,   5,   7,   9,  11,  13,  15,  17,  19,  21,  23,\n",
       "        25,  27,  29,  31,  33,  35,  37,  39,  41,  43,  45,  47,  49,\n",
       "        51,  53,  55,  57,  59,  61,  63,  65,  67,  69,  71,  73,  75,\n",
       "        77,  79])"
      ]
     },
     "execution_count": 9,
     "metadata": {},
     "output_type": "execute_result"
    }
   ],
   "execution_count": 9
  },
  {
   "metadata": {
    "ExecuteTime": {
     "end_time": "2024-11-20T16:09:03.973882Z",
     "start_time": "2024-11-20T16:09:03.960819Z"
    }
   },
   "cell_type": "code",
   "source": [
    "def coordToIndex(coord):\n",
    "    return np.argwhere(ygrid==coord[1])[0][0], np.argwhere(xgrid==coord[0])[0][0], np.argwhere(zgrid==coord[2])[0][0]\n",
    "\n",
    "\n",
    "def indexToCoord(index):\n",
    "    if len(np.array(index).shape) == 2:\n",
    "        return np.array([xgrid[index[:,1]], ygrid[index[:,0]], zgrid[index[:,2]]]).T\n",
    "    else:\n",
    "        return np.array([xgrid[index[1]], ygrid[index[0]], zgrid[index[2]]]).T"
   ],
   "id": "28a9d4772f0b657e",
   "outputs": [],
   "execution_count": 10
  },
  {
   "metadata": {
    "ExecuteTime": {
     "end_time": "2024-11-20T16:09:11.950147Z",
     "start_time": "2024-11-20T16:09:11.934524Z"
    }
   },
   "cell_type": "code",
   "source": [
    "def LOCAscore(image, target_point):\n",
    "    \"\"\"\n",
    "    Distance from the max value of the image to the target point\n",
    "    :param image: \n",
    "    :param target_point: \n",
    "    :return: \n",
    "    \"\"\"\n",
    "    ind = np.unravel_index(np.argmax(image, axis=None), image.shape)\n",
    "    image_point = indexToCoord(ind)\n",
    "    localisation_error = np.linalg.norm(image_point - target_point)\n",
    "    return localisation_error\n",
    "\n",
    "\n",
    "def LOCA(processed_images, target_points):\n",
    "    LOCAimage = np.zeros(processed_images[...,0].shape)\n",
    "    for i in tqdm(range(processed_images.shape[3])):\n",
    "        score = LOCAscore(processed_images[...,i], target_points[:,i])\n",
    "        LOCAimage[coordToIndex(target_points[...,i])] = score\n",
    "    return LOCAimage"
   ],
   "id": "5a222c83e8575bec",
   "outputs": [],
   "execution_count": 13
  },
  {
   "metadata": {
    "ExecuteTime": {
     "end_time": "2024-11-20T16:09:12.632730Z",
     "start_time": "2024-11-20T16:09:12.609625Z"
    }
   },
   "cell_type": "code",
   "source": "thing = LOCA(noisy_images, locations)",
   "id": "e8966b9311452858",
   "outputs": [
    {
     "name": "stderr",
     "output_type": "stream",
     "text": [
      "100%|██████████| 10/10 [00:00<00:00, 673.39it/s]\n"
     ]
    }
   ],
   "execution_count": 14
  },
  {
   "metadata": {
    "ExecuteTime": {
     "end_time": "2024-11-20T16:09:18.977932Z",
     "start_time": "2024-11-20T16:09:15.564602Z"
    }
   },
   "cell_type": "code",
   "source": [
    "colors = np.empty(thing.shape, dtype='object')\n",
    "colors[thing<np.quantile(thing[thing!=0], 0.25)] = 'purple'\n",
    "colors[thing>np.quantile(thing[thing!=0], 0.25)] = 'blue'\n",
    "colors[thing>np.quantile(thing[thing!=0], 0.5)] = 'green'\n",
    "colors[thing>np.quantile(thing[thing!=0], 0.75)] = 'red'\n",
    "\n",
    "\n",
    "ax = plt.figure().add_subplot(projection='3d')\n",
    "ax.voxels(thing, facecolors=colors)\n",
    "ax.set_aspect('equal')\n",
    "\n",
    "plt.show()"
   ],
   "id": "16e9c186e4fba438",
   "outputs": [
    {
     "data": {
      "text/plain": [
       "<Figure size 432x288 with 1 Axes>"
      ],
      "image/png": "[encoded data removed]"
     },
     "metadata": {
      "needs_background": "light"
     },
     "output_type": "display_data"
    }
   ],
   "execution_count": 15
  },
  {
   "metadata": {
    "ExecuteTime": {
     "end_time": "2024-11-20T16:09:19.731913Z",
     "start_time": "2024-11-20T16:09:19.719954Z"
    }
   },
   "cell_type": "code",
   "source": [
    "def FWHMscore(image):\n",
    "    \"\"\"\n",
    "    Maximum distance between the two nodes that are more than or equal to 50% of the max reconstruction\n",
    "    :param image: \n",
    "    :return: \n",
    "    \"\"\"\n",
    "    image_max = np.max(image)\n",
    "    image_max_idx = np.unravel_index(np.argmax(image, axis=None), image.shape)\n",
    "    idxs = np.argwhere(image>image_max/2)\n",
    "    score = 0\n",
    "    for idx in idxs:\n",
    "        newscore = np.max(np.linalg.norm(idxs - idx, axis=1)) * 2 #2mm voxels\n",
    "        if newscore > score:\n",
    "            score = newscore\n",
    "    return score\n",
    "\n",
    "\n",
    "def FWHM(processed_images, target_points):\n",
    "    FWHM_image = np.zeros(processed_images[...,0].shape)\n",
    "    for i in tqdm(range(processed_images.shape[3])):\n",
    "        score = FWHMscore(processed_images[...,i])\n",
    "        FWHM_image[coordToIndex(target_points[...,i])] = score\n",
    "    return FWHM_image\n",
    "    "
   ],
   "id": "6ef713539bd2c707",
   "outputs": [],
   "execution_count": 16
  },
  {
   "metadata": {
    "ExecuteTime": {
     "end_time": "2024-11-20T16:09:20.137531Z",
     "start_time": "2024-11-20T16:09:20.110760Z"
    }
   },
   "cell_type": "code",
   "source": "FWHMscore(noisy_image)",
   "id": "f8c0133782816316",
   "outputs": [
    {
     "data": {
      "text/plain": [
       "22.44994432064365"
      ]
     },
     "execution_count": 17,
     "metadata": {},
     "output_type": "execute_result"
    }
   ],
   "execution_count": 17
  },
  {
   "metadata": {
    "ExecuteTime": {
     "end_time": "2024-11-20T16:09:20.539680Z",
     "start_time": "2024-11-20T16:09:20.442515Z"
    }
   },
   "cell_type": "code",
   "source": "thing = FWHM(noisy_images, locations)",
   "id": "e38fe047d4099a28",
   "outputs": [
    {
     "name": "stderr",
     "output_type": "stream",
     "text": [
      "100%|██████████| 10/10 [00:00<00:00, 144.66it/s]\n"
     ]
    }
   ],
   "execution_count": 18
  },
  {
   "metadata": {
    "ExecuteTime": {
     "end_time": "2024-11-20T16:09:25.044969Z",
     "start_time": "2024-11-20T16:09:20.818008Z"
    }
   },
   "cell_type": "code",
   "source": [
    "colors = np.empty(thing.shape, dtype='object')\n",
    "colors[thing<np.quantile(thing[thing!=0], 0.25)] = 'purple'\n",
    "colors[thing>np.quantile(thing[thing!=0], 0.25)] = 'blue'\n",
    "colors[thing>np.quantile(thing[thing!=0], 0.5)] = 'green'\n",
    "colors[thing>np.quantile(thing[thing!=0], 0.75)] = 'red'\n",
    "\n",
    "\n",
    "ax = plt.figure().add_subplot(projection='3d')\n",
    "ax.voxels(thing, facecolors=colors)\n",
    "ax.set_aspect('equal')\n",
    "\n",
    "plt.show()"
   ],
   "id": "3b5ac7a3d307dbac",
   "outputs": [
    {
     "data": {
      "text/plain": [
       "<Figure size 432x288 with 1 Axes>"
      ],
      "image/png": "[encoded data removed]"
     },
     "metadata": {
      "needs_background": "light"
     },
     "output_type": "display_data"
    }
   ],
   "execution_count": 19
  },
  {
   "metadata": {
    "ExecuteTime": {
     "end_time": "2024-11-20T16:09:25.091395Z",
     "start_time": "2024-11-20T16:09:25.071386Z"
    }
   },
   "cell_type": "code",
   "source": [
    "def ERESscore(image, target_point):\n",
    "    \"\"\"\n",
    "    Distance from the target point to the furthest value greater than 50% of the max value\n",
    "    :param image: \n",
    "    :param target_point: \n",
    "    :return: \n",
    "    \"\"\"\n",
    "    image_max = np.max(image)\n",
    "    idxs = np.argwhere(image>image_max/2)\n",
    "    effective_resolution = np.max(np.linalg.norm(indexToCoord(idxs) - target_point, axis=1)) * 2\n",
    "    return effective_resolution\n",
    "\n",
    "\n",
    "def ERES(processed_images, target_points):\n",
    "    ERES_image = np.zeros(processed_images[...,0].shape)\n",
    "    for i in tqdm(range(processed_images.shape[3])):\n",
    "        score = ERESscore(processed_images[...,i], target_points[:,i])\n",
    "        ERES_image[coordToIndex(target_points[...,i])] = score\n",
    "    return ERES_image"
   ],
   "id": "fe59f3e318973b6",
   "outputs": [],
   "execution_count": 20
  },
  {
   "metadata": {
    "ExecuteTime": {
     "end_time": "2024-11-20T16:09:25.183201Z",
     "start_time": "2024-11-20T16:09:25.146960Z"
    }
   },
   "cell_type": "code",
   "source": "thing = ERES(noisy_images, locations)",
   "id": "52352c423602245b",
   "outputs": [
    {
     "name": "stderr",
     "output_type": "stream",
     "text": [
      "100%|██████████| 10/10 [00:00<00:00, 1000.29it/s]\n"
     ]
    }
   ],
   "execution_count": 21
  },
  {
   "metadata": {
    "ExecuteTime": {
     "end_time": "2024-11-20T16:09:30.604447Z",
     "start_time": "2024-11-20T16:09:26.900558Z"
    }
   },
   "cell_type": "code",
   "source": [
    "colors = np.empty(thing.shape, dtype='object')\n",
    "colors[thing<np.quantile(thing[thing!=0], 0.25)] = 'purple'\n",
    "colors[thing>np.quantile(thing[thing!=0], 0.25)] = 'blue'\n",
    "colors[thing>np.quantile(thing[thing!=0], 0.5)] = 'green'\n",
    "colors[thing>np.quantile(thing[thing!=0], 0.75)] = 'red'\n",
    "\n",
    "\n",
    "ax = plt.figure().add_subplot(projection='3d')\n",
    "ax.voxels(thing, facecolors=colors)\n",
    "ax.set_aspect('equal')\n",
    "\n",
    "plt.show()"
   ],
   "id": "5e547662fddbfd01",
   "outputs": [
    {
     "data": {
      "text/plain": [
       "<Figure size 432x288 with 1 Axes>"
      ],
      "image/png": "[encoded data removed]"
     },
     "metadata": {
      "needs_background": "light"
     },
     "output_type": "display_data"
    }
   ],
   "execution_count": 22
  },
  {
   "metadata": {
    "ExecuteTime": {
     "end_time": "2024-11-20T16:09:30.654926Z",
     "start_time": "2024-11-20T16:09:30.639295Z"
    }
   },
   "cell_type": "code",
   "source": "",
   "id": "5e03cb03267bb0d9",
   "outputs": [],
   "execution_count": null
  },
  {
   "metadata": {},
   "cell_type": "markdown",
   "source": "## Testing",
   "id": "983996d8dc01f406"
  },
  {
   "metadata": {
    "ExecuteTime": {
     "end_time": "2024-11-20T16:11:01.766181Z",
     "start_time": "2024-11-20T16:11:01.758706Z"
    }
   },
   "cell_type": "code",
   "source": [
    "test_truth = np.zeros((10,10,10))\n",
    "test_truth[2,2,2] = 1"
   ],
   "id": "63bfe691678b80e2",
   "outputs": [],
   "execution_count": 40
  },
  {
   "metadata": {
    "ExecuteTime": {
     "end_time": "2024-11-20T16:11:02.889779Z",
     "start_time": "2024-11-20T16:11:02.866781Z"
    }
   },
   "cell_type": "code",
   "source": "LOCAscore(test_truth, indexToCoord([2,2,1]))",
   "id": "9b7bfcf977a87c28",
   "outputs": [
    {
     "data": {
      "text/plain": [
       "2.0"
      ]
     },
     "execution_count": 41,
     "metadata": {},
     "output_type": "execute_result"
    }
   ],
   "execution_count": 41
  },
  {
   "metadata": {
    "ExecuteTime": {
     "end_time": "2024-11-20T16:11:03.309050Z",
     "start_time": "2024-11-20T16:11:03.296321Z"
    }
   },
   "cell_type": "code",
   "source": "FWHMscore(test_truth)",
   "id": "bf87502774b73044",
   "outputs": [
    {
     "data": {
      "text/plain": [
       "0"
      ]
     },
     "execution_count": 43,
     "metadata": {},
     "output_type": "execute_result"
    }
   ],
   "execution_count": 43
  },
  {
   "metadata": {
    "ExecuteTime": {
     "end_time": "2024-11-20T16:11:06.725751Z",
     "start_time": "2024-11-20T16:11:06.714089Z"
    }
   },
   "cell_type": "code",
   "source": "ERESscore(test_truth, indexToCoord([2,2,3]))",
   "id": "7097a46ea0a3b395",
   "outputs": [
    {
     "data": {
      "text/plain": [
       "4.0"
      ]
     },
     "execution_count": 45,
     "metadata": {},
     "output_type": "execute_result"
    }
   ],
   "execution_count": 45
  },
  {
   "metadata": {},
   "cell_type": "code",
   "outputs": [],
   "execution_count": null,
   "source": "",
   "id": "69eda38ad84d3f8b"
  }
 ],
 "metadata": {
  "kernelspec": {
   "display_name": "Python 3",
   "language": "python",
   "name": "python3"
  },
  "language_info": {
   "codemirror_mode": {
    "name": "ipython",
    "version": 2
   },
   "file_extension": ".py",
   "mimetype": "text/x-python",
   "name": "python",
   "nbconvert_exporter": "python",
   "pygments_lexer": "ipython2",
   "version": "2.7.6"
  }
 },
 "nbformat": 4,
 "nbformat_minor": 5
}
