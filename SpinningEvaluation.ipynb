{
 "cells": [
  {
   "cell_type": "code",
   "id": "initial_id",
   "metadata": {
    "collapsed": true,
    "ExecuteTime": {
     "end_time": "2024-11-14T15:40:29.329523Z",
     "start_time": "2024-11-14T15:40:29.314513Z"
    }
   },
   "source": [
    "import mat73\n",
    "import numpy as np\n",
    "import matplotlib.pyplot as plt\n",
    "import scipy\n",
    "import scipy.io as sio\n",
    "import pandas as pd\n",
    "from skimage import metrics\n",
    "from tqdm import tqdm"
   ],
   "outputs": [],
   "execution_count": 9
  },
  {
   "metadata": {
    "ExecuteTime": {
     "end_time": "2024-11-14T15:55:03.632931Z",
     "start_time": "2024-11-14T15:55:03.543376Z"
    }
   },
   "cell_type": "code",
   "source": [
    "data = sio.loadmat(r'Models/FluctuationFixed/Spinning/test_processed.mat')\n",
    "unet = data['recon2']\n",
    "smoothed = data['smooth_images']\n",
    "unsmoothed = data['noisy_images']\n",
    "ground_truth = data['clean_images']\n",
    "mask = data['mask']"
   ],
   "id": "5593851dc2e96214",
   "outputs": [],
   "execution_count": 51
  },
  {
   "metadata": {},
   "cell_type": "markdown",
   "source": "With MRI used as the optimal measurement the rest of the metrics are calculated based on that being ground truth",
   "id": "b6176cb7037cd5f7"
  },
  {
   "metadata": {
    "ExecuteTime": {
     "end_time": "2024-11-14T15:55:04.731616Z",
     "start_time": "2024-11-14T15:55:04.719790Z"
    }
   },
   "cell_type": "code",
   "source": [
    "df = pd.DataFrame(columns=['unet_mse', 'unet_ssim', 'smoothed_mse', 'smoothed_ssim', 'unsmoothed_mse', 'unsmoothed_ssim'])\n",
    "df"
   ],
   "id": "1ba4a9ceee11100d",
   "outputs": [
    {
     "data": {
      "text/plain": [
       "Empty DataFrame\n",
       "Columns: [unet_mse, unet_ssim, smoothed_mse, smoothed_ssim, unsmoothed_mse, unsmoothed_ssim]\n",
       "Index: []"
      ],
      "text/html": [
       "<div>\n",
       "<style scoped>\n",
       "    .dataframe tbody tr th:only-of-type {\n",
       "        vertical-align: middle;\n",
       "    }\n",
       "\n",
       "    .dataframe tbody tr th {\n",
       "        vertical-align: top;\n",
       "    }\n",
       "\n",
       "    .dataframe thead th {\n",
       "        text-align: right;\n",
       "    }\n",
       "</style>\n",
       "<table border=\"1\" class=\"dataframe\">\n",
       "  <thead>\n",
       "    <tr style=\"text-align: right;\">\n",
       "      <th></th>\n",
       "      <th>unet_mse</th>\n",
       "      <th>unet_ssim</th>\n",
       "      <th>smoothed_mse</th>\n",
       "      <th>smoothed_ssim</th>\n",
       "      <th>unsmoothed_mse</th>\n",
       "      <th>unsmoothed_ssim</th>\n",
       "    </tr>\n",
       "  </thead>\n",
       "  <tbody>\n",
       "  </tbody>\n",
       "</table>\n",
       "</div>"
      ]
     },
     "execution_count": 52,
     "metadata": {},
     "output_type": "execute_result"
    }
   ],
   "execution_count": 52
  },
  {
   "metadata": {
    "ExecuteTime": {
     "end_time": "2024-11-14T15:55:05.561454Z",
     "start_time": "2024-11-14T15:55:05.540947Z"
    }
   },
   "cell_type": "code",
   "source": [
    "def mse(input, target, mask):\n",
    "    \"\"\"\n",
    "    returns the array of the mean squared error of the input vs target\n",
    "    :param input: array\n",
    "    :param target: array\n",
    "    :return: \n",
    "    \"\"\"\n",
    "    return np.sum(np.subtract(input, target) ** 2, axis=tuple([0, 1, 2]))\n",
    "\n",
    "def ssim(input, target):\n",
    "    \"\"\"\n",
    "    return the array of SSIM of the input vs target\n",
    "    :param input: \n",
    "    :param target: \n",
    "    :return: \n",
    "    \"\"\"\n",
    "    ssim = []\n",
    "    for i in range(input.shape[-1]):\n",
    "        ssim.append(metrics.structural_similarity(target[:,:,:,i],input[:,:,:,i]))\n",
    "    return np.array(ssim)"
   ],
   "id": "1fc3caa31d9fa58e",
   "outputs": [],
   "execution_count": 53
  },
  {
   "metadata": {},
   "cell_type": "code",
   "outputs": [],
   "execution_count": null,
   "source": [
    "for i in tqdm(range(ground_truth.shape[-1])):\n",
    "        smoothed[...,i] = smoothed[...,i] * mask\n",
    "        unsmoothed[...,i] = unsmoothed[...,i] * mask\n",
    "        unet[...,i] = unet[...,i] * mask"
   ],
   "id": "dce7766ac93ed802"
  },
  {
   "metadata": {
    "ExecuteTime": {
     "end_time": "2024-11-14T15:55:09.418863Z",
     "start_time": "2024-11-14T15:55:06.190476Z"
    }
   },
   "cell_type": "code",
   "source": [
    "df['smoothed_mse'] = mse(smoothed, ground_truth, mask) \n",
    "df['smoothed_ssim'] = ssim(smoothed, ground_truth)\n",
    "df['unsmoothed_mse'] = mse(unsmoothed, ground_truth, mask)\n",
    "df['unsmoothed_ssim'] = ssim(unsmoothed, ground_truth)\n",
    "df['unet_mse'] = mse(unet, ground_truth, mask)\n",
    "df['unet_ssim'] = ssim(unet, ground_truth)"
   ],
   "id": "ed7fb186f1bfb619",
   "outputs": [
    {
     "name": "stderr",
     "output_type": "stream",
     "text": [
      "<ipython-input-53-2372673be574>:19: UserWarning: Inputs have mismatched dtype.  Setting data_range based on im1.dtype.\n",
      "  ssim.append(metrics.structural_similarity(target[:,:,:,i],input[:,:,:,i]))\n"
     ]
    }
   ],
   "execution_count": 54
  },
  {
   "metadata": {
    "ExecuteTime": {
     "end_time": "2024-11-14T15:55:10.907260Z",
     "start_time": "2024-11-14T15:55:10.888233Z"
    }
   },
   "cell_type": "code",
   "source": "df.info()",
   "id": "fa9169fd604cd9d8",
   "outputs": [
    {
     "name": "stdout",
     "output_type": "stream",
     "text": [
      "<class 'pandas.core.frame.DataFrame'>\n",
      "RangeIndex: 36 entries, 0 to 35\n",
      "Data columns (total 6 columns):\n",
      " #   Column           Non-Null Count  Dtype  \n",
      "---  ------           --------------  -----  \n",
      " 0   unet_mse         36 non-null     float64\n",
      " 1   unet_ssim        36 non-null     float64\n",
      " 2   smoothed_mse     36 non-null     float64\n",
      " 3   smoothed_ssim    36 non-null     float64\n",
      " 4   unsmoothed_mse   36 non-null     float64\n",
      " 5   unsmoothed_ssim  36 non-null     float64\n",
      "dtypes: float64(6)\n",
      "memory usage: 1.8 KB\n"
     ]
    }
   ],
   "execution_count": 55
  },
  {
   "metadata": {
    "ExecuteTime": {
     "end_time": "2024-11-14T15:55:12.320806Z",
     "start_time": "2024-11-14T15:55:12.294969Z"
    }
   },
   "cell_type": "code",
   "source": "df.head()",
   "id": "b20f2225396cab6",
   "outputs": [
    {
     "data": {
      "text/plain": [
       "       unet_mse  unet_ssim   smoothed_mse  smoothed_ssim  unsmoothed_mse  \\\n",
       "0  25545.223991   0.452554  156094.253032       0.432567   256334.550072   \n",
       "1  28100.612279   0.516917  158336.273654       0.436747   182577.855281   \n",
       "2  30085.673952   0.455728  151804.159364       0.443424   250780.183188   \n",
       "3  30493.880410   0.565625  149341.371163       0.452537   137115.723956   \n",
       "4  28050.874391   0.453432  150773.886348       0.476758   225301.995774   \n",
       "\n",
       "   unsmoothed_ssim  \n",
       "0         0.326940  \n",
       "1         0.348324  \n",
       "2         0.325462  \n",
       "3         0.381314  \n",
       "4         0.321487  "
      ],
      "text/html": [
       "<div>\n",
       "<style scoped>\n",
       "    .dataframe tbody tr th:only-of-type {\n",
       "        vertical-align: middle;\n",
       "    }\n",
       "\n",
       "    .dataframe tbody tr th {\n",
       "        vertical-align: top;\n",
       "    }\n",
       "\n",
       "    .dataframe thead th {\n",
       "        text-align: right;\n",
       "    }\n",
       "</style>\n",
       "<table border=\"1\" class=\"dataframe\">\n",
       "  <thead>\n",
       "    <tr style=\"text-align: right;\">\n",
       "      <th></th>\n",
       "      <th>unet_mse</th>\n",
       "      <th>unet_ssim</th>\n",
       "      <th>smoothed_mse</th>\n",
       "      <th>smoothed_ssim</th>\n",
       "      <th>unsmoothed_mse</th>\n",
       "      <th>unsmoothed_ssim</th>\n",
       "    </tr>\n",
       "  </thead>\n",
       "  <tbody>\n",
       "    <tr>\n",
       "      <th>0</th>\n",
       "      <td>25545.223991</td>\n",
       "      <td>0.452554</td>\n",
       "      <td>156094.253032</td>\n",
       "      <td>0.432567</td>\n",
       "      <td>256334.550072</td>\n",
       "      <td>0.326940</td>\n",
       "    </tr>\n",
       "    <tr>\n",
       "      <th>1</th>\n",
       "      <td>28100.612279</td>\n",
       "      <td>0.516917</td>\n",
       "      <td>158336.273654</td>\n",
       "      <td>0.436747</td>\n",
       "      <td>182577.855281</td>\n",
       "      <td>0.348324</td>\n",
       "    </tr>\n",
       "    <tr>\n",
       "      <th>2</th>\n",
       "      <td>30085.673952</td>\n",
       "      <td>0.455728</td>\n",
       "      <td>151804.159364</td>\n",
       "      <td>0.443424</td>\n",
       "      <td>250780.183188</td>\n",
       "      <td>0.325462</td>\n",
       "    </tr>\n",
       "    <tr>\n",
       "      <th>3</th>\n",
       "      <td>30493.880410</td>\n",
       "      <td>0.565625</td>\n",
       "      <td>149341.371163</td>\n",
       "      <td>0.452537</td>\n",
       "      <td>137115.723956</td>\n",
       "      <td>0.381314</td>\n",
       "    </tr>\n",
       "    <tr>\n",
       "      <th>4</th>\n",
       "      <td>28050.874391</td>\n",
       "      <td>0.453432</td>\n",
       "      <td>150773.886348</td>\n",
       "      <td>0.476758</td>\n",
       "      <td>225301.995774</td>\n",
       "      <td>0.321487</td>\n",
       "    </tr>\n",
       "  </tbody>\n",
       "</table>\n",
       "</div>"
      ]
     },
     "execution_count": 56,
     "metadata": {},
     "output_type": "execute_result"
    }
   ],
   "execution_count": 56
  },
  {
   "metadata": {
    "ExecuteTime": {
     "end_time": "2024-11-14T15:55:13.232677Z",
     "start_time": "2024-11-14T15:55:13.046212Z"
    }
   },
   "cell_type": "code",
   "source": [
    "plt.figure()\n",
    "df.boxplot(column=['unet_mse', 'smoothed_mse', 'unsmoothed_mse'])\n",
    "plt.ylabel('MSE')\n",
    "plt.title('MSE with fMRI as ground truth')\n",
    "plt.show()"
   ],
   "id": "e4a2087902d8c2f4",
   "outputs": [
    {
     "data": {
      "text/plain": [
       "<Figure size 432x288 with 1 Axes>"
      ],
      "image/png": "[encoded data removed]"
     },
     "metadata": {
      "needs_background": "light"
     },
     "output_type": "display_data"
    }
   ],
   "execution_count": 57
  },
  {
   "metadata": {
    "ExecuteTime": {
     "end_time": "2024-11-14T15:55:14.160281Z",
     "start_time": "2024-11-14T15:55:13.902976Z"
    }
   },
   "cell_type": "code",
   "source": [
    "plt.figure()\n",
    "df.boxplot(column=['unet_ssim', 'smoothed_ssim', 'unsmoothed_ssim'])\n",
    "plt.ylabel('SSIM')\n",
    "plt.title('SSIM with fMRI as ground truth')\n",
    "plt.show()"
   ],
   "id": "9425421cad9483b6",
   "outputs": [
    {
     "data": {
      "text/plain": [
       "<Figure size 432x288 with 1 Axes>"
      ],
      "image/png": "[encoded data removed]"
     },
     "metadata": {
      "needs_background": "light"
     },
     "output_type": "display_data"
    }
   ],
   "execution_count": 58
  },
  {
   "metadata": {
    "ExecuteTime": {
     "end_time": "2024-11-14T15:55:16.476131Z",
     "start_time": "2024-11-14T15:55:15.648380Z"
    }
   },
   "cell_type": "code",
   "source": [
    "fig, ax1 = plt.subplots()\n",
    "\n",
    "colour1 = '#FF674F'\n",
    "ax1.set_title('Image similarity measures')\n",
    "#ax1.set_xlabel('MSE')\n",
    "df.boxplot(column=['unet_mse', 'smoothed_mse', 'unsmoothed_mse'], color=colour1)\n",
    "ax1.tick_params(axis='y', labelcolor=colour1)\n",
    "ax1.set_ylabel('MSE', color=colour1)\n",
    "\n",
    "ax2 = ax1.twinx()\n",
    "colour2 = '#4F90FF'\n",
    "df.boxplot(column=['unet_ssim', 'smoothed_ssim', 'unsmoothed_ssim'], color=colour2)\n",
    "ax2.set_ylabel('SSIM', color=colour2)\n",
    "ax2.tick_params(axis='y', labelcolor=colour2)\n",
    "ax2.set_xticklabels(['','','', 'UNET', 'Smoothed', 'Unsmoothed'])\n",
    "fig.tight_layout()\n",
    "plt.savefig('Image Similarity Measures.pdf', bbox_inches='tight', dpi=300)\n",
    "plt.show()"
   ],
   "id": "e47a31cab63f6e5c",
   "outputs": [
    {
     "data": {
      "text/plain": [
       "<Figure size 432x288 with 2 Axes>"
      ],
      "image/png": "[encoded data removed]"
     },
     "metadata": {},
     "output_type": "display_data"
    }
   ],
   "execution_count": 59
  },
  {
   "metadata": {
    "ExecuteTime": {
     "end_time": "2024-11-14T16:03:33.218296Z",
     "start_time": "2024-11-14T16:03:33.203872Z"
    }
   },
   "cell_type": "code",
   "source": [
    "images_per_OP = 36\n",
    "optical_property_changes = np.arange(-10, 11)"
   ],
   "id": "b547b097b420cfd2",
   "outputs": [],
   "execution_count": 66
  },
  {
   "metadata": {
    "ExecuteTime": {
     "end_time": "2024-11-14T16:06:50.431157Z",
     "start_time": "2024-11-14T16:06:48.270109Z"
    }
   },
   "cell_type": "code",
   "source": [
    "import seaborn as sns\n",
    "sns.set_theme(style=\"darkgrid\")\n",
    "\n",
    "# Load an example dataset with long-form data\n",
    "fmri = sns.load_dataset(\"fmri\")\n",
    "\n",
    "# Plot the responses for different events and regions\n",
    "sns.lineplot(x=\"timepoint\", y=\"signal\",\n",
    "             hue=\"region\", style=\"event\",\n",
    "             data=fmri)\n",
    "plt.show()"
   ],
   "id": "4abb21d17dd6fd5",
   "outputs": [
    {
     "data": {
      "text/plain": [
       "<Figure size 432x288 with 1 Axes>"
      ],
      "image/png": "[encoded data removed]"
     },
     "metadata": {},
     "output_type": "display_data"
    }
   ],
   "execution_count": 69
  },
  {
   "metadata": {
    "ExecuteTime": {
     "end_time": "2024-11-14T16:06:57.258441Z",
     "start_time": "2024-11-14T16:06:57.234290Z"
    }
   },
   "cell_type": "code",
   "source": "fmri",
   "id": "a07a602a27fcff28",
   "outputs": [
    {
     "data": {
      "text/plain": [
       "     subject  timepoint event    region    signal\n",
       "0        s13         18  stim  parietal -0.017552\n",
       "1         s5         14  stim  parietal -0.080883\n",
       "2        s12         18  stim  parietal -0.081033\n",
       "3        s11         18  stim  parietal -0.046134\n",
       "4        s10         18  stim  parietal -0.037970\n",
       "...      ...        ...   ...       ...       ...\n",
       "1059      s0          8   cue   frontal  0.018165\n",
       "1060     s13          7   cue   frontal -0.029130\n",
       "1061     s12          7   cue   frontal -0.004939\n",
       "1062     s11          7   cue   frontal -0.025367\n",
       "1063      s0          0   cue  parietal -0.006899\n",
       "\n",
       "[1064 rows x 5 columns]"
      ],
      "text/html": [
       "<div>\n",
       "<style scoped>\n",
       "    .dataframe tbody tr th:only-of-type {\n",
       "        vertical-align: middle;\n",
       "    }\n",
       "\n",
       "    .dataframe tbody tr th {\n",
       "        vertical-align: top;\n",
       "    }\n",
       "\n",
       "    .dataframe thead th {\n",
       "        text-align: right;\n",
       "    }\n",
       "</style>\n",
       "<table border=\"1\" class=\"dataframe\">\n",
       "  <thead>\n",
       "    <tr style=\"text-align: right;\">\n",
       "      <th></th>\n",
       "      <th>subject</th>\n",
       "      <th>timepoint</th>\n",
       "      <th>event</th>\n",
       "      <th>region</th>\n",
       "      <th>signal</th>\n",
       "    </tr>\n",
       "  </thead>\n",
       "  <tbody>\n",
       "    <tr>\n",
       "      <th>0</th>\n",
       "      <td>s13</td>\n",
       "      <td>18</td>\n",
       "      <td>stim</td>\n",
       "      <td>parietal</td>\n",
       "      <td>-0.017552</td>\n",
       "    </tr>\n",
       "    <tr>\n",
       "      <th>1</th>\n",
       "      <td>s5</td>\n",
       "      <td>14</td>\n",
       "      <td>stim</td>\n",
       "      <td>parietal</td>\n",
       "      <td>-0.080883</td>\n",
       "    </tr>\n",
       "    <tr>\n",
       "      <th>2</th>\n",
       "      <td>s12</td>\n",
       "      <td>18</td>\n",
       "      <td>stim</td>\n",
       "      <td>parietal</td>\n",
       "      <td>-0.081033</td>\n",
       "    </tr>\n",
       "    <tr>\n",
       "      <th>3</th>\n",
       "      <td>s11</td>\n",
       "      <td>18</td>\n",
       "      <td>stim</td>\n",
       "      <td>parietal</td>\n",
       "      <td>-0.046134</td>\n",
       "    </tr>\n",
       "    <tr>\n",
       "      <th>4</th>\n",
       "      <td>s10</td>\n",
       "      <td>18</td>\n",
       "      <td>stim</td>\n",
       "      <td>parietal</td>\n",
       "      <td>-0.037970</td>\n",
       "    </tr>\n",
       "    <tr>\n",
       "      <th>...</th>\n",
       "      <td>...</td>\n",
       "      <td>...</td>\n",
       "      <td>...</td>\n",
       "      <td>...</td>\n",
       "      <td>...</td>\n",
       "    </tr>\n",
       "    <tr>\n",
       "      <th>1059</th>\n",
       "      <td>s0</td>\n",
       "      <td>8</td>\n",
       "      <td>cue</td>\n",
       "      <td>frontal</td>\n",
       "      <td>0.018165</td>\n",
       "    </tr>\n",
       "    <tr>\n",
       "      <th>1060</th>\n",
       "      <td>s13</td>\n",
       "      <td>7</td>\n",
       "      <td>cue</td>\n",
       "      <td>frontal</td>\n",
       "      <td>-0.029130</td>\n",
       "    </tr>\n",
       "    <tr>\n",
       "      <th>1061</th>\n",
       "      <td>s12</td>\n",
       "      <td>7</td>\n",
       "      <td>cue</td>\n",
       "      <td>frontal</td>\n",
       "      <td>-0.004939</td>\n",
       "    </tr>\n",
       "    <tr>\n",
       "      <th>1062</th>\n",
       "      <td>s11</td>\n",
       "      <td>7</td>\n",
       "      <td>cue</td>\n",
       "      <td>frontal</td>\n",
       "      <td>-0.025367</td>\n",
       "    </tr>\n",
       "    <tr>\n",
       "      <th>1063</th>\n",
       "      <td>s0</td>\n",
       "      <td>0</td>\n",
       "      <td>cue</td>\n",
       "      <td>parietal</td>\n",
       "      <td>-0.006899</td>\n",
       "    </tr>\n",
       "  </tbody>\n",
       "</table>\n",
       "<p>1064 rows × 5 columns</p>\n",
       "</div>"
      ]
     },
     "execution_count": 70,
     "metadata": {},
     "output_type": "execute_result"
    }
   ],
   "execution_count": 70
  },
  {
   "metadata": {
    "ExecuteTime": {
     "end_time": "2024-11-14T16:29:16.053817Z",
     "start_time": "2024-11-14T16:28:57.417051Z"
    }
   },
   "cell_type": "code",
   "source": [
    "df2 = pd.DataFrame(columns=['OPchange', 'MSE', 'ReconstructionMethod'])\n",
    "recon_method = ['unet_mse', 'smoothed_mse', 'unsmoothed_mse']\n",
    "for recon in recon_method:\n",
    "    for [i, x] in enumerate(optical_property_changes):\n",
    "        df3 = pd.DataFrame({'OPchange' : x*np.ones(images_per_OP), 'MSE' : df[recon][i*images_per_OP:images_per_OP*(1+i)], 'ReconstructionMethod' : [recon]*images_per_OP})\n",
    "        df2 = pd.concat([df2, df3])"
   ],
   "id": "191474f67b839788",
   "outputs": [
    {
     "ename": "ValueError",
     "evalue": "array length 36 does not match index length 0",
     "output_type": "error",
     "traceback": [
      "\u001B[1;31m---------------------------------------------------------------------------\u001B[0m",
      "\u001B[1;31mValueError\u001B[0m                                Traceback (most recent call last)",
      "\u001B[1;32m<ipython-input-92-a7a928ecf584>\u001B[0m in \u001B[0;36m<module>\u001B[1;34m\u001B[0m\n\u001B[0;32m      3\u001B[0m \u001B[1;32mfor\u001B[0m \u001B[0mrecon\u001B[0m \u001B[1;32min\u001B[0m \u001B[0mrecon_method\u001B[0m\u001B[1;33m:\u001B[0m\u001B[1;33m\u001B[0m\u001B[1;33m\u001B[0m\u001B[0m\n\u001B[0;32m      4\u001B[0m     \u001B[1;32mfor\u001B[0m \u001B[1;33m[\u001B[0m\u001B[0mi\u001B[0m\u001B[1;33m,\u001B[0m \u001B[0mx\u001B[0m\u001B[1;33m]\u001B[0m \u001B[1;32min\u001B[0m \u001B[0menumerate\u001B[0m\u001B[1;33m(\u001B[0m\u001B[0moptical_property_changes\u001B[0m\u001B[1;33m)\u001B[0m\u001B[1;33m:\u001B[0m\u001B[1;33m\u001B[0m\u001B[1;33m\u001B[0m\u001B[0m\n\u001B[1;32m----> 5\u001B[1;33m         \u001B[0mdf3\u001B[0m \u001B[1;33m=\u001B[0m \u001B[0mpd\u001B[0m\u001B[1;33m.\u001B[0m\u001B[0mDataFrame\u001B[0m\u001B[1;33m(\u001B[0m\u001B[1;33m{\u001B[0m\u001B[1;34m'OPchange'\u001B[0m \u001B[1;33m:\u001B[0m \u001B[0mx\u001B[0m\u001B[1;33m*\u001B[0m\u001B[0mnp\u001B[0m\u001B[1;33m.\u001B[0m\u001B[0mones\u001B[0m\u001B[1;33m(\u001B[0m\u001B[0mimages_per_OP\u001B[0m\u001B[1;33m)\u001B[0m\u001B[1;33m,\u001B[0m \u001B[1;34m'MSE'\u001B[0m \u001B[1;33m:\u001B[0m \u001B[0mdf\u001B[0m\u001B[1;33m[\u001B[0m\u001B[0mrecon\u001B[0m\u001B[1;33m]\u001B[0m\u001B[1;33m[\u001B[0m\u001B[0mi\u001B[0m\u001B[1;33m*\u001B[0m\u001B[0mimages_per_OP\u001B[0m\u001B[1;33m:\u001B[0m\u001B[0mimages_per_OP\u001B[0m\u001B[1;33m*\u001B[0m\u001B[1;33m(\u001B[0m\u001B[1;36m1\u001B[0m\u001B[1;33m+\u001B[0m\u001B[0mi\u001B[0m\u001B[1;33m)\u001B[0m\u001B[1;33m]\u001B[0m\u001B[1;33m,\u001B[0m \u001B[1;34m'ReconstructionMethod'\u001B[0m \u001B[1;33m:\u001B[0m \u001B[1;33m[\u001B[0m\u001B[0mrecon\u001B[0m\u001B[1;33m]\u001B[0m\u001B[1;33m*\u001B[0m\u001B[0mimages_per_OP\u001B[0m\u001B[1;33m}\u001B[0m\u001B[1;33m)\u001B[0m\u001B[1;33m\u001B[0m\u001B[1;33m\u001B[0m\u001B[0m\n\u001B[0m\u001B[0;32m      6\u001B[0m         \u001B[0mdf2\u001B[0m \u001B[1;33m=\u001B[0m \u001B[0mpd\u001B[0m\u001B[1;33m.\u001B[0m\u001B[0mconcat\u001B[0m\u001B[1;33m(\u001B[0m\u001B[1;33m[\u001B[0m\u001B[0mdf2\u001B[0m\u001B[1;33m,\u001B[0m \u001B[0mdf3\u001B[0m\u001B[1;33m]\u001B[0m\u001B[1;33m)\u001B[0m\u001B[1;33m\u001B[0m\u001B[1;33m\u001B[0m\u001B[0m\n",
      "\u001B[1;32m~\\anaconda3\\lib\\site-packages\\pandas\\core\\frame.py\u001B[0m in \u001B[0;36m__init__\u001B[1;34m(self, data, index, columns, dtype, copy)\u001B[0m\n\u001B[0;32m    527\u001B[0m \u001B[1;33m\u001B[0m\u001B[0m\n\u001B[0;32m    528\u001B[0m         \u001B[1;32melif\u001B[0m \u001B[0misinstance\u001B[0m\u001B[1;33m(\u001B[0m\u001B[0mdata\u001B[0m\u001B[1;33m,\u001B[0m \u001B[0mdict\u001B[0m\u001B[1;33m)\u001B[0m\u001B[1;33m:\u001B[0m\u001B[1;33m\u001B[0m\u001B[1;33m\u001B[0m\u001B[0m\n\u001B[1;32m--> 529\u001B[1;33m             \u001B[0mmgr\u001B[0m \u001B[1;33m=\u001B[0m \u001B[0minit_dict\u001B[0m\u001B[1;33m(\u001B[0m\u001B[0mdata\u001B[0m\u001B[1;33m,\u001B[0m \u001B[0mindex\u001B[0m\u001B[1;33m,\u001B[0m \u001B[0mcolumns\u001B[0m\u001B[1;33m,\u001B[0m \u001B[0mdtype\u001B[0m\u001B[1;33m=\u001B[0m\u001B[0mdtype\u001B[0m\u001B[1;33m)\u001B[0m\u001B[1;33m\u001B[0m\u001B[1;33m\u001B[0m\u001B[0m\n\u001B[0m\u001B[0;32m    530\u001B[0m         \u001B[1;32melif\u001B[0m \u001B[0misinstance\u001B[0m\u001B[1;33m(\u001B[0m\u001B[0mdata\u001B[0m\u001B[1;33m,\u001B[0m \u001B[0mma\u001B[0m\u001B[1;33m.\u001B[0m\u001B[0mMaskedArray\u001B[0m\u001B[1;33m)\u001B[0m\u001B[1;33m:\u001B[0m\u001B[1;33m\u001B[0m\u001B[1;33m\u001B[0m\u001B[0m\n\u001B[0;32m    531\u001B[0m             \u001B[1;32mimport\u001B[0m \u001B[0mnumpy\u001B[0m\u001B[1;33m.\u001B[0m\u001B[0mma\u001B[0m\u001B[1;33m.\u001B[0m\u001B[0mmrecords\u001B[0m \u001B[1;32mas\u001B[0m \u001B[0mmrecords\u001B[0m\u001B[1;33m\u001B[0m\u001B[1;33m\u001B[0m\u001B[0m\n",
      "\u001B[1;32m~\\anaconda3\\lib\\site-packages\\pandas\\core\\internals\\construction.py\u001B[0m in \u001B[0;36minit_dict\u001B[1;34m(data, index, columns, dtype)\u001B[0m\n\u001B[0;32m    285\u001B[0m             \u001B[0marr\u001B[0m \u001B[1;32mif\u001B[0m \u001B[1;32mnot\u001B[0m \u001B[0mis_datetime64tz_dtype\u001B[0m\u001B[1;33m(\u001B[0m\u001B[0marr\u001B[0m\u001B[1;33m)\u001B[0m \u001B[1;32melse\u001B[0m \u001B[0marr\u001B[0m\u001B[1;33m.\u001B[0m\u001B[0mcopy\u001B[0m\u001B[1;33m(\u001B[0m\u001B[1;33m)\u001B[0m \u001B[1;32mfor\u001B[0m \u001B[0marr\u001B[0m \u001B[1;32min\u001B[0m \u001B[0marrays\u001B[0m\u001B[1;33m\u001B[0m\u001B[1;33m\u001B[0m\u001B[0m\n\u001B[0;32m    286\u001B[0m         ]\n\u001B[1;32m--> 287\u001B[1;33m     \u001B[1;32mreturn\u001B[0m \u001B[0marrays_to_mgr\u001B[0m\u001B[1;33m(\u001B[0m\u001B[0marrays\u001B[0m\u001B[1;33m,\u001B[0m \u001B[0mdata_names\u001B[0m\u001B[1;33m,\u001B[0m \u001B[0mindex\u001B[0m\u001B[1;33m,\u001B[0m \u001B[0mcolumns\u001B[0m\u001B[1;33m,\u001B[0m \u001B[0mdtype\u001B[0m\u001B[1;33m=\u001B[0m\u001B[0mdtype\u001B[0m\u001B[1;33m)\u001B[0m\u001B[1;33m\u001B[0m\u001B[1;33m\u001B[0m\u001B[0m\n\u001B[0m\u001B[0;32m    288\u001B[0m \u001B[1;33m\u001B[0m\u001B[0m\n\u001B[0;32m    289\u001B[0m \u001B[1;33m\u001B[0m\u001B[0m\n",
      "\u001B[1;32m~\\anaconda3\\lib\\site-packages\\pandas\\core\\internals\\construction.py\u001B[0m in \u001B[0;36marrays_to_mgr\u001B[1;34m(arrays, arr_names, index, columns, dtype, verify_integrity)\u001B[0m\n\u001B[0;32m     78\u001B[0m         \u001B[1;31m# figure out the index, if necessary\u001B[0m\u001B[1;33m\u001B[0m\u001B[1;33m\u001B[0m\u001B[1;33m\u001B[0m\u001B[0m\n\u001B[0;32m     79\u001B[0m         \u001B[1;32mif\u001B[0m \u001B[0mindex\u001B[0m \u001B[1;32mis\u001B[0m \u001B[1;32mNone\u001B[0m\u001B[1;33m:\u001B[0m\u001B[1;33m\u001B[0m\u001B[1;33m\u001B[0m\u001B[0m\n\u001B[1;32m---> 80\u001B[1;33m             \u001B[0mindex\u001B[0m \u001B[1;33m=\u001B[0m \u001B[0mextract_index\u001B[0m\u001B[1;33m(\u001B[0m\u001B[0marrays\u001B[0m\u001B[1;33m)\u001B[0m\u001B[1;33m\u001B[0m\u001B[1;33m\u001B[0m\u001B[0m\n\u001B[0m\u001B[0;32m     81\u001B[0m         \u001B[1;32melse\u001B[0m\u001B[1;33m:\u001B[0m\u001B[1;33m\u001B[0m\u001B[1;33m\u001B[0m\u001B[0m\n\u001B[0;32m     82\u001B[0m             \u001B[0mindex\u001B[0m \u001B[1;33m=\u001B[0m \u001B[0mensure_index\u001B[0m\u001B[1;33m(\u001B[0m\u001B[0mindex\u001B[0m\u001B[1;33m)\u001B[0m\u001B[1;33m\u001B[0m\u001B[1;33m\u001B[0m\u001B[0m\n",
      "\u001B[1;32m~\\anaconda3\\lib\\site-packages\\pandas\\core\\internals\\construction.py\u001B[0m in \u001B[0;36mextract_index\u001B[1;34m(data)\u001B[0m\n\u001B[0;32m    413\u001B[0m                         \u001B[1;34mf\"length {len(index)}\"\u001B[0m\u001B[1;33m\u001B[0m\u001B[1;33m\u001B[0m\u001B[0m\n\u001B[0;32m    414\u001B[0m                     )\n\u001B[1;32m--> 415\u001B[1;33m                     \u001B[1;32mraise\u001B[0m \u001B[0mValueError\u001B[0m\u001B[1;33m(\u001B[0m\u001B[0mmsg\u001B[0m\u001B[1;33m)\u001B[0m\u001B[1;33m\u001B[0m\u001B[1;33m\u001B[0m\u001B[0m\n\u001B[0m\u001B[0;32m    416\u001B[0m             \u001B[1;32melse\u001B[0m\u001B[1;33m:\u001B[0m\u001B[1;33m\u001B[0m\u001B[1;33m\u001B[0m\u001B[0m\n\u001B[0;32m    417\u001B[0m                 \u001B[0mindex\u001B[0m \u001B[1;33m=\u001B[0m \u001B[0mibase\u001B[0m\u001B[1;33m.\u001B[0m\u001B[0mdefault_index\u001B[0m\u001B[1;33m(\u001B[0m\u001B[0mlengths\u001B[0m\u001B[1;33m[\u001B[0m\u001B[1;36m0\u001B[0m\u001B[1;33m]\u001B[0m\u001B[1;33m)\u001B[0m\u001B[1;33m\u001B[0m\u001B[1;33m\u001B[0m\u001B[0m\n",
      "\u001B[1;31mValueError\u001B[0m: array length 36 does not match index length 0"
     ]
    }
   ],
   "execution_count": 92
  },
  {
   "metadata": {},
   "cell_type": "code",
   "outputs": [],
   "execution_count": null,
   "source": [
    "\n",
    "\n",
    "for i,x in enumerate(optical_property_changes):\n",
    "    \n",
    "\n",
    "\n",
    "\n",
    "\n",
    "plt.plot()"
   ],
   "id": "c9b49e38b9bf55a9"
  },
  {
   "metadata": {
    "ExecuteTime": {
     "end_time": "2024-11-14T16:28:42.496588Z",
     "start_time": "2024-11-14T16:28:42.486821Z"
    }
   },
   "cell_type": "code",
   "source": [
    "for [i, x] in enumerate(['a', 'a']):\n",
    "    print(i, x)"
   ],
   "id": "3d798c2f50dea8be",
   "outputs": [
    {
     "name": "stdout",
     "output_type": "stream",
     "text": [
      "0 a\n",
      "1 a\n"
     ]
    }
   ],
   "execution_count": 90
  },
  {
   "metadata": {},
   "cell_type": "code",
   "outputs": [],
   "execution_count": null,
   "source": "",
   "id": "d806d0c825bfef49"
  }
 ],
 "metadata": {
  "kernelspec": {
   "display_name": "Python 3",
   "language": "python",
   "name": "python3"
  },
  "language_info": {
   "codemirror_mode": {
    "name": "ipython",
    "version": 2
   },
   "file_extension": ".py",
   "mimetype": "text/x-python",
   "name": "python",
   "nbconvert_exporter": "python",
   "pygments_lexer": "ipython2",
   "version": "2.7.6"
  }
 },
 "nbformat": 4,
 "nbformat_minor": 5
}
