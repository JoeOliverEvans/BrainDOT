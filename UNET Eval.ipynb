{
 "cells": [
  {
   "metadata": {},
   "cell_type": "markdown",
   "source": "## Script for processing data with the UNET",
   "id": "2d1a5467d6451715"
  },
  {
   "cell_type": "code",
   "id": "initial_id",
   "metadata": {
    "collapsed": true,
    "ExecuteTime": {
     "end_time": "2025-01-02T12:18:05.893258Z",
     "start_time": "2025-01-02T12:18:05.756305Z"
    }
   },
   "source": [
    "import numpy as np\n",
    "import scipy.io as sio\n",
    "import torch\n",
    "import torch.nn as nn\n",
    "from torchvision import models\n",
    "from torch.nn.functional import relu\n",
    "from torch.utils.data import Dataset\n",
    "from torch.utils.data import DataLoader\n",
    "import matplotlib.pyplot as plt\n",
    "import re\n",
    "import mat73\n",
    "from tqdm import tqdm\n",
    "import pickle"
   ],
   "outputs": [],
   "execution_count": 83
  },
  {
   "metadata": {
    "ExecuteTime": {
     "end_time": "2024-12-30T10:24:07.389764Z",
     "start_time": "2024-12-30T10:23:41.347118Z"
    }
   },
   "cell_type": "code",
   "source": [
    "model = torch.jit.load('Datasets/FinalModel/model_scripted.pt')\n",
    "data = mat73.loadmat('Datasets/SpinningOPChangeNoisy/SpinningOPChangeNoisy.mat')\n",
    "mask = sio.loadmat('mask.mat')['mask']\n",
    "all_x = data['all_x']\n",
    "all_y = data['all_y']\n",
    "all_z = data['all_z']\n",
    "locations = np.array([all_x, all_y, all_z])\n"
   ],
   "id": "fe44eca66e2c904a",
   "outputs": [],
   "execution_count": 3
  },
  {
   "metadata": {
    "ExecuteTime": {
     "end_time": "2024-12-30T10:24:11.734182Z",
     "start_time": "2024-12-30T10:24:09.870261Z"
    }
   },
   "cell_type": "code",
   "source": "test_X = torch.tensor(data['HbOvol'], dtype=torch.float32)",
   "id": "85fb10d05f3c8d39",
   "outputs": [],
   "execution_count": 4
  },
  {
   "metadata": {
    "ExecuteTime": {
     "end_time": "2024-12-30T10:24:14.443259Z",
     "start_time": "2024-12-30T10:24:12.627090Z"
    }
   },
   "cell_type": "code",
   "source": "torch.max(test_X)",
   "id": "a623e2ffc1110368",
   "outputs": [
    {
     "data": {
      "text/plain": [
       "tensor(0.0613)"
      ]
     },
     "execution_count": 5,
     "metadata": {},
     "output_type": "execute_result"
    }
   ],
   "execution_count": 5
  },
  {
   "metadata": {
    "ExecuteTime": {
     "end_time": "2024-12-30T10:26:27.974009Z",
     "start_time": "2024-12-30T10:24:15.693961Z"
    }
   },
   "cell_type": "code",
   "source": [
    "test_Y = np.zeros(test_X.shape)\n",
    "for i in tqdm(range(test_X.shape[-1])):\n",
    "    tmp = (test_X[..., i]-torch.min(test_X[...,i]))/(torch.max(test_X[...,i])-torch.min(test_X[...,i]))\n",
    "    test_Y[...,i] = model(tmp.unsqueeze(0).unsqueeze(0)).squeeze().detach().numpy() * mask"
   ],
   "id": "f0801c82ff3b794a",
   "outputs": [
    {
     "name": "stderr",
     "output_type": "stream",
     "text": [
      "100%|██████████| 756/756 [02:12<00:00,  5.72it/s]\n"
     ]
    }
   ],
   "execution_count": 6
  },
  {
   "metadata": {
    "ExecuteTime": {
     "end_time": "2024-12-30T10:26:31.029593Z",
     "start_time": "2024-12-30T10:26:31.018593Z"
    }
   },
   "cell_type": "code",
   "source": "data.keys()",
   "id": "8c0482d66800a7f6",
   "outputs": [
    {
     "data": {
      "text/plain": [
       "dict_keys(['HbOvol', 'HbOvol_smoothed', 'all_amplitude', 'all_beta', 'all_dOD', 'all_dOD_noisy', 'all_fluctuate1', 'all_x', 'all_y', 'all_z', 'ground_truth'])"
      ]
     },
     "execution_count": 7,
     "metadata": {},
     "output_type": "execute_result"
    }
   ],
   "execution_count": 7
  },
  {
   "metadata": {
    "ExecuteTime": {
     "end_time": "2024-12-30T10:26:31.989686Z",
     "start_time": "2024-12-30T10:26:31.977454Z"
    }
   },
   "cell_type": "code",
   "source": [
    "data['HbOvol_unet'] = test_Y\n",
    "data['locations'] = locations"
   ],
   "id": "ede2de309de5e5e5",
   "outputs": [],
   "execution_count": 8
  },
  {
   "metadata": {
    "ExecuteTime": {
     "end_time": "2024-12-30T10:26:51.237004Z",
     "start_time": "2024-12-30T10:26:32.619708Z"
    }
   },
   "cell_type": "code",
   "source": [
    "with open('Datasets/SpinningOPChangeNoisy/SpinningOPChangeNoisyWithUNETFinal.pickle', 'wb') as handle:\n",
    "    pickle.dump(data, handle, protocol=pickle.HIGHEST_PROTOCOL)"
   ],
   "id": "aa5a50b7460f5fc7",
   "outputs": [],
   "execution_count": 9
  },
  {
   "metadata": {
    "ExecuteTime": {
     "end_time": "2024-12-30T10:27:04.949196Z",
     "start_time": "2024-12-30T10:26:51.360686Z"
    }
   },
   "cell_type": "code",
   "source": "sio.savemat('Datasets/SpinningOPChangeNoisy/SpinningOPChangeNoisyWithUNETOnlyPicsFinal.mat', {'HbOvol_unet': test_Y, 'HbOvol': data['HbOvol'], 'HbOvol_smoothed': data['HbOvol_smoothed'], 'ground_truth' : data['ground_truth']})",
   "id": "286954eb185a7883",
   "outputs": [],
   "execution_count": 10
  },
  {
   "metadata": {
    "ExecuteTime": {
     "end_time": "2024-12-30T10:27:05.166236Z",
     "start_time": "2024-12-30T10:27:05.154224Z"
    }
   },
   "cell_type": "code",
   "source": "del data",
   "id": "748f58faae7fd1e",
   "outputs": [],
   "execution_count": 11
  },
  {
   "metadata": {
    "ExecuteTime": {
     "end_time": "2025-01-01T12:52:13.599620Z",
     "start_time": "2025-01-01T12:52:12.136963Z"
    }
   },
   "cell_type": "code",
   "source": [
    "model = torch.jit.load('Datasets/FinalModel/model_scripted.pt')\n",
    "data = mat73.loadmat('TestingData.mat')\n",
    "mask = sio.loadmat('mask.mat')['mask']"
   ],
   "id": "69450355c6f70723",
   "outputs": [],
   "execution_count": 70
  },
  {
   "metadata": {
    "ExecuteTime": {
     "end_time": "2025-01-01T12:58:50.760135Z",
     "start_time": "2025-01-01T12:58:32.031582Z"
    }
   },
   "cell_type": "code",
   "source": [
    "test_X = torch.tensor(data['HbOvol'][:, :, :, :], dtype=torch.float32)\n",
    "\n",
    "test_Y = np.zeros(test_X.shape)\n",
    "for i in tqdm(range(test_X.shape[-1])):\n",
    "    tmp = (test_X[:, :, :, i]-torch.min(test_X[...,i]))/(torch.max(test_X[...,i])-torch.min(test_X[...,i]))\n",
    "    test_Y[:, :, :, i] = model(tmp.unsqueeze(0).unsqueeze(0)).squeeze().detach().numpy()\n",
    "\n",
    "sio.savemat(r'Datasets/FinalModel/test_processed.mat', {'HbOvol_unet': test_Y, 'HbOvol': data['HbOvol'], 'HbOvol_smoothed': data['HbOvol_smoothed'], 'ground_truth' : data['ground_truth']})"
   ],
   "id": "1a5529937a013c6e",
   "outputs": [
    {
     "name": "stderr",
     "output_type": "stream",
     "text": [
      "100%|██████████| 100/100 [00:16<00:00,  6.01it/s]\n"
     ]
    }
   ],
   "execution_count": 76
  },
  {
   "metadata": {
    "ExecuteTime": {
     "end_time": "2025-01-01T12:55:25.210804Z",
     "start_time": "2025-01-01T12:55:25.190762Z"
    }
   },
   "cell_type": "code",
   "source": "print(data['ground_truth'])",
   "id": "a09cd37beaa0b907",
   "outputs": [
    {
     "name": "stdout",
     "output_type": "stream",
     "text": [
      "[[[[0. 0. 0. ... 0. 0. 0.]\n",
      "   [0. 0. 0. ... 0. 0. 0.]\n",
      "   [0. 0. 0. ... 0. 0. 0.]\n",
      "   ...\n",
      "   [0. 0. 0. ... 0. 0. 0.]\n",
      "   [0. 0. 0. ... 0. 0. 0.]\n",
      "   [0. 0. 0. ... 0. 0. 0.]]\n",
      "\n",
      "  [[0. 0. 0. ... 0. 0. 0.]\n",
      "   [0. 0. 0. ... 0. 0. 0.]\n",
      "   [0. 0. 0. ... 0. 0. 0.]\n",
      "   ...\n",
      "   [0. 0. 0. ... 0. 0. 0.]\n",
      "   [0. 0. 0. ... 0. 0. 0.]\n",
      "   [0. 0. 0. ... 0. 0. 0.]]\n",
      "\n",
      "  [[0. 0. 0. ... 0. 0. 0.]\n",
      "   [0. 0. 0. ... 0. 0. 0.]\n",
      "   [0. 0. 0. ... 0. 0. 0.]\n",
      "   ...\n",
      "   [0. 0. 0. ... 0. 0. 0.]\n",
      "   [0. 0. 0. ... 0. 0. 0.]\n",
      "   [0. 0. 0. ... 0. 0. 0.]]\n",
      "\n",
      "  ...\n",
      "\n",
      "  [[0. 0. 0. ... 0. 0. 0.]\n",
      "   [0. 0. 0. ... 0. 0. 0.]\n",
      "   [0. 0. 0. ... 0. 0. 0.]\n",
      "   ...\n",
      "   [0. 0. 0. ... 0. 0. 0.]\n",
      "   [0. 0. 0. ... 0. 0. 0.]\n",
      "   [0. 0. 0. ... 0. 0. 0.]]\n",
      "\n",
      "  [[0. 0. 0. ... 0. 0. 0.]\n",
      "   [0. 0. 0. ... 0. 0. 0.]\n",
      "   [0. 0. 0. ... 0. 0. 0.]\n",
      "   ...\n",
      "   [0. 0. 0. ... 0. 0. 0.]\n",
      "   [0. 0. 0. ... 0. 0. 0.]\n",
      "   [0. 0. 0. ... 0. 0. 0.]]\n",
      "\n",
      "  [[0. 0. 0. ... 0. 0. 0.]\n",
      "   [0. 0. 0. ... 0. 0. 0.]\n",
      "   [0. 0. 0. ... 0. 0. 0.]\n",
      "   ...\n",
      "   [0. 0. 0. ... 0. 0. 0.]\n",
      "   [0. 0. 0. ... 0. 0. 0.]\n",
      "   [0. 0. 0. ... 0. 0. 0.]]]\n",
      "\n",
      "\n",
      " [[[0. 0. 0. ... 0. 0. 0.]\n",
      "   [0. 0. 0. ... 0. 0. 0.]\n",
      "   [0. 0. 0. ... 0. 0. 0.]\n",
      "   ...\n",
      "   [0. 0. 0. ... 0. 0. 0.]\n",
      "   [0. 0. 0. ... 0. 0. 0.]\n",
      "   [0. 0. 0. ... 0. 0. 0.]]\n",
      "\n",
      "  [[0. 0. 0. ... 0. 0. 0.]\n",
      "   [0. 0. 0. ... 0. 0. 0.]\n",
      "   [0. 0. 0. ... 0. 0. 0.]\n",
      "   ...\n",
      "   [0. 0. 0. ... 0. 0. 0.]\n",
      "   [0. 0. 0. ... 0. 0. 0.]\n",
      "   [0. 0. 0. ... 0. 0. 0.]]\n",
      "\n",
      "  [[0. 0. 0. ... 0. 0. 0.]\n",
      "   [0. 0. 0. ... 0. 0. 0.]\n",
      "   [0. 0. 0. ... 0. 0. 0.]\n",
      "   ...\n",
      "   [0. 0. 0. ... 0. 0. 0.]\n",
      "   [0. 0. 0. ... 0. 0. 0.]\n",
      "   [0. 0. 0. ... 0. 0. 0.]]\n",
      "\n",
      "  ...\n",
      "\n",
      "  [[0. 0. 0. ... 0. 0. 0.]\n",
      "   [0. 0. 0. ... 0. 0. 0.]\n",
      "   [0. 0. 0. ... 0. 0. 0.]\n",
      "   ...\n",
      "   [0. 0. 0. ... 0. 0. 0.]\n",
      "   [0. 0. 0. ... 0. 0. 0.]\n",
      "   [0. 0. 0. ... 0. 0. 0.]]\n",
      "\n",
      "  [[0. 0. 0. ... 0. 0. 0.]\n",
      "   [0. 0. 0. ... 0. 0. 0.]\n",
      "   [0. 0. 0. ... 0. 0. 0.]\n",
      "   ...\n",
      "   [0. 0. 0. ... 0. 0. 0.]\n",
      "   [0. 0. 0. ... 0. 0. 0.]\n",
      "   [0. 0. 0. ... 0. 0. 0.]]\n",
      "\n",
      "  [[0. 0. 0. ... 0. 0. 0.]\n",
      "   [0. 0. 0. ... 0. 0. 0.]\n",
      "   [0. 0. 0. ... 0. 0. 0.]\n",
      "   ...\n",
      "   [0. 0. 0. ... 0. 0. 0.]\n",
      "   [0. 0. 0. ... 0. 0. 0.]\n",
      "   [0. 0. 0. ... 0. 0. 0.]]]\n",
      "\n",
      "\n",
      " [[[0. 0. 0. ... 0. 0. 0.]\n",
      "   [0. 0. 0. ... 0. 0. 0.]\n",
      "   [0. 0. 0. ... 0. 0. 0.]\n",
      "   ...\n",
      "   [0. 0. 0. ... 0. 0. 0.]\n",
      "   [0. 0. 0. ... 0. 0. 0.]\n",
      "   [0. 0. 0. ... 0. 0. 0.]]\n",
      "\n",
      "  [[0. 0. 0. ... 0. 0. 0.]\n",
      "   [0. 0. 0. ... 0. 0. 0.]\n",
      "   [0. 0. 0. ... 0. 0. 0.]\n",
      "   ...\n",
      "   [0. 0. 0. ... 0. 0. 0.]\n",
      "   [0. 0. 0. ... 0. 0. 0.]\n",
      "   [0. 0. 0. ... 0. 0. 0.]]\n",
      "\n",
      "  [[0. 0. 0. ... 0. 0. 0.]\n",
      "   [0. 0. 0. ... 0. 0. 0.]\n",
      "   [0. 0. 0. ... 0. 0. 0.]\n",
      "   ...\n",
      "   [0. 0. 0. ... 0. 0. 0.]\n",
      "   [0. 0. 0. ... 0. 0. 0.]\n",
      "   [0. 0. 0. ... 0. 0. 0.]]\n",
      "\n",
      "  ...\n",
      "\n",
      "  [[0. 0. 0. ... 0. 0. 0.]\n",
      "   [0. 0. 0. ... 0. 0. 0.]\n",
      "   [0. 0. 0. ... 0. 0. 0.]\n",
      "   ...\n",
      "   [0. 0. 0. ... 0. 0. 0.]\n",
      "   [0. 0. 0. ... 0. 0. 0.]\n",
      "   [0. 0. 0. ... 0. 0. 0.]]\n",
      "\n",
      "  [[0. 0. 0. ... 0. 0. 0.]\n",
      "   [0. 0. 0. ... 0. 0. 0.]\n",
      "   [0. 0. 0. ... 0. 0. 0.]\n",
      "   ...\n",
      "   [0. 0. 0. ... 0. 0. 0.]\n",
      "   [0. 0. 0. ... 0. 0. 0.]\n",
      "   [0. 0. 0. ... 0. 0. 0.]]\n",
      "\n",
      "  [[0. 0. 0. ... 0. 0. 0.]\n",
      "   [0. 0. 0. ... 0. 0. 0.]\n",
      "   [0. 0. 0. ... 0. 0. 0.]\n",
      "   ...\n",
      "   [0. 0. 0. ... 0. 0. 0.]\n",
      "   [0. 0. 0. ... 0. 0. 0.]\n",
      "   [0. 0. 0. ... 0. 0. 0.]]]\n",
      "\n",
      "\n",
      " ...\n",
      "\n",
      "\n",
      " [[[0. 0. 0. ... 0. 0. 0.]\n",
      "   [0. 0. 0. ... 0. 0. 0.]\n",
      "   [0. 0. 0. ... 0. 0. 0.]\n",
      "   ...\n",
      "   [0. 0. 0. ... 0. 0. 0.]\n",
      "   [0. 0. 0. ... 0. 0. 0.]\n",
      "   [0. 0. 0. ... 0. 0. 0.]]\n",
      "\n",
      "  [[0. 0. 0. ... 0. 0. 0.]\n",
      "   [0. 0. 0. ... 0. 0. 0.]\n",
      "   [0. 0. 0. ... 0. 0. 0.]\n",
      "   ...\n",
      "   [0. 0. 0. ... 0. 0. 0.]\n",
      "   [0. 0. 0. ... 0. 0. 0.]\n",
      "   [0. 0. 0. ... 0. 0. 0.]]\n",
      "\n",
      "  [[0. 0. 0. ... 0. 0. 0.]\n",
      "   [0. 0. 0. ... 0. 0. 0.]\n",
      "   [0. 0. 0. ... 0. 0. 0.]\n",
      "   ...\n",
      "   [0. 0. 0. ... 0. 0. 0.]\n",
      "   [0. 0. 0. ... 0. 0. 0.]\n",
      "   [0. 0. 0. ... 0. 0. 0.]]\n",
      "\n",
      "  ...\n",
      "\n",
      "  [[0. 0. 0. ... 0. 0. 0.]\n",
      "   [0. 0. 0. ... 0. 0. 0.]\n",
      "   [0. 0. 0. ... 0. 0. 0.]\n",
      "   ...\n",
      "   [0. 0. 0. ... 0. 0. 0.]\n",
      "   [0. 0. 0. ... 0. 0. 0.]\n",
      "   [0. 0. 0. ... 0. 0. 0.]]\n",
      "\n",
      "  [[0. 0. 0. ... 0. 0. 0.]\n",
      "   [0. 0. 0. ... 0. 0. 0.]\n",
      "   [0. 0. 0. ... 0. 0. 0.]\n",
      "   ...\n",
      "   [0. 0. 0. ... 0. 0. 0.]\n",
      "   [0. 0. 0. ... 0. 0. 0.]\n",
      "   [0. 0. 0. ... 0. 0. 0.]]\n",
      "\n",
      "  [[0. 0. 0. ... 0. 0. 0.]\n",
      "   [0. 0. 0. ... 0. 0. 0.]\n",
      "   [0. 0. 0. ... 0. 0. 0.]\n",
      "   ...\n",
      "   [0. 0. 0. ... 0. 0. 0.]\n",
      "   [0. 0. 0. ... 0. 0. 0.]\n",
      "   [0. 0. 0. ... 0. 0. 0.]]]\n",
      "\n",
      "\n",
      " [[[0. 0. 0. ... 0. 0. 0.]\n",
      "   [0. 0. 0. ... 0. 0. 0.]\n",
      "   [0. 0. 0. ... 0. 0. 0.]\n",
      "   ...\n",
      "   [0. 0. 0. ... 0. 0. 0.]\n",
      "   [0. 0. 0. ... 0. 0. 0.]\n",
      "   [0. 0. 0. ... 0. 0. 0.]]\n",
      "\n",
      "  [[0. 0. 0. ... 0. 0. 0.]\n",
      "   [0. 0. 0. ... 0. 0. 0.]\n",
      "   [0. 0. 0. ... 0. 0. 0.]\n",
      "   ...\n",
      "   [0. 0. 0. ... 0. 0. 0.]\n",
      "   [0. 0. 0. ... 0. 0. 0.]\n",
      "   [0. 0. 0. ... 0. 0. 0.]]\n",
      "\n",
      "  [[0. 0. 0. ... 0. 0. 0.]\n",
      "   [0. 0. 0. ... 0. 0. 0.]\n",
      "   [0. 0. 0. ... 0. 0. 0.]\n",
      "   ...\n",
      "   [0. 0. 0. ... 0. 0. 0.]\n",
      "   [0. 0. 0. ... 0. 0. 0.]\n",
      "   [0. 0. 0. ... 0. 0. 0.]]\n",
      "\n",
      "  ...\n",
      "\n",
      "  [[0. 0. 0. ... 0. 0. 0.]\n",
      "   [0. 0. 0. ... 0. 0. 0.]\n",
      "   [0. 0. 0. ... 0. 0. 0.]\n",
      "   ...\n",
      "   [0. 0. 0. ... 0. 0. 0.]\n",
      "   [0. 0. 0. ... 0. 0. 0.]\n",
      "   [0. 0. 0. ... 0. 0. 0.]]\n",
      "\n",
      "  [[0. 0. 0. ... 0. 0. 0.]\n",
      "   [0. 0. 0. ... 0. 0. 0.]\n",
      "   [0. 0. 0. ... 0. 0. 0.]\n",
      "   ...\n",
      "   [0. 0. 0. ... 0. 0. 0.]\n",
      "   [0. 0. 0. ... 0. 0. 0.]\n",
      "   [0. 0. 0. ... 0. 0. 0.]]\n",
      "\n",
      "  [[0. 0. 0. ... 0. 0. 0.]\n",
      "   [0. 0. 0. ... 0. 0. 0.]\n",
      "   [0. 0. 0. ... 0. 0. 0.]\n",
      "   ...\n",
      "   [0. 0. 0. ... 0. 0. 0.]\n",
      "   [0. 0. 0. ... 0. 0. 0.]\n",
      "   [0. 0. 0. ... 0. 0. 0.]]]\n",
      "\n",
      "\n",
      " [[[0. 0. 0. ... 0. 0. 0.]\n",
      "   [0. 0. 0. ... 0. 0. 0.]\n",
      "   [0. 0. 0. ... 0. 0. 0.]\n",
      "   ...\n",
      "   [0. 0. 0. ... 0. 0. 0.]\n",
      "   [0. 0. 0. ... 0. 0. 0.]\n",
      "   [0. 0. 0. ... 0. 0. 0.]]\n",
      "\n",
      "  [[0. 0. 0. ... 0. 0. 0.]\n",
      "   [0. 0. 0. ... 0. 0. 0.]\n",
      "   [0. 0. 0. ... 0. 0. 0.]\n",
      "   ...\n",
      "   [0. 0. 0. ... 0. 0. 0.]\n",
      "   [0. 0. 0. ... 0. 0. 0.]\n",
      "   [0. 0. 0. ... 0. 0. 0.]]\n",
      "\n",
      "  [[0. 0. 0. ... 0. 0. 0.]\n",
      "   [0. 0. 0. ... 0. 0. 0.]\n",
      "   [0. 0. 0. ... 0. 0. 0.]\n",
      "   ...\n",
      "   [0. 0. 0. ... 0. 0. 0.]\n",
      "   [0. 0. 0. ... 0. 0. 0.]\n",
      "   [0. 0. 0. ... 0. 0. 0.]]\n",
      "\n",
      "  ...\n",
      "\n",
      "  [[0. 0. 0. ... 0. 0. 0.]\n",
      "   [0. 0. 0. ... 0. 0. 0.]\n",
      "   [0. 0. 0. ... 0. 0. 0.]\n",
      "   ...\n",
      "   [0. 0. 0. ... 0. 0. 0.]\n",
      "   [0. 0. 0. ... 0. 0. 0.]\n",
      "   [0. 0. 0. ... 0. 0. 0.]]\n",
      "\n",
      "  [[0. 0. 0. ... 0. 0. 0.]\n",
      "   [0. 0. 0. ... 0. 0. 0.]\n",
      "   [0. 0. 0. ... 0. 0. 0.]\n",
      "   ...\n",
      "   [0. 0. 0. ... 0. 0. 0.]\n",
      "   [0. 0. 0. ... 0. 0. 0.]\n",
      "   [0. 0. 0. ... 0. 0. 0.]]\n",
      "\n",
      "  [[0. 0. 0. ... 0. 0. 0.]\n",
      "   [0. 0. 0. ... 0. 0. 0.]\n",
      "   [0. 0. 0. ... 0. 0. 0.]\n",
      "   ...\n",
      "   [0. 0. 0. ... 0. 0. 0.]\n",
      "   [0. 0. 0. ... 0. 0. 0.]\n",
      "   [0. 0. 0. ... 0. 0. 0.]]]]\n"
     ]
    }
   ],
   "execution_count": 73
  },
  {
   "metadata": {},
   "cell_type": "code",
   "outputs": [],
   "execution_count": null,
   "source": "",
   "id": "515f8e933d6ea410"
  },
  {
   "metadata": {},
   "cell_type": "code",
   "outputs": [],
   "execution_count": null,
   "source": "",
   "id": "fef3ba470f5c42f"
  },
  {
   "metadata": {
    "ExecuteTime": {
     "end_time": "2024-12-30T11:25:13.576173Z",
     "start_time": "2024-12-30T11:25:12.258443Z"
    }
   },
   "cell_type": "code",
   "source": [
    "model = torch.jit.load('Datasets/FinalModel/model_scripted.pt')\n",
    "data = mat73.loadmat('CW1Neurodot.mat')\n",
    "mask = sio.loadmat('mask.mat')['mask']"
   ],
   "id": "c708d564a05a0e2c",
   "outputs": [],
   "execution_count": 26
  },
  {
   "metadata": {
    "ExecuteTime": {
     "end_time": "2024-12-30T11:25:14.008675Z",
     "start_time": "2024-12-30T11:25:13.985590Z"
    }
   },
   "cell_type": "code",
   "source": "test_X = torch.tensor(data['HbOvol'], dtype=torch.float32)",
   "id": "76594db309f3949d",
   "outputs": [],
   "execution_count": 27
  },
  {
   "metadata": {
    "ExecuteTime": {
     "end_time": "2024-12-30T11:25:21.651002Z",
     "start_time": "2024-12-30T11:25:14.383524Z"
    }
   },
   "cell_type": "code",
   "source": [
    "test_Y = np.zeros(test_X.shape)\n",
    "for i in tqdm(range(test_X.shape[-1])):\n",
    "    tmp = (test_X[..., i]-torch.min(test_X[...,i]))/(torch.max(test_X[...,i])-torch.min(test_X[...,i]))\n",
    "    test_Y[...,i] = model(tmp.unsqueeze(0).unsqueeze(0)).squeeze().detach().numpy() * mask"
   ],
   "id": "3f09b9847f7b26f7",
   "outputs": [
    {
     "name": "stderr",
     "output_type": "stream",
     "text": [
      "100%|██████████| 36/36 [00:07<00:00,  4.97it/s]\n"
     ]
    }
   ],
   "execution_count": 28
  },
  {
   "metadata": {
    "ExecuteTime": {
     "end_time": "2024-12-30T11:25:25.959798Z",
     "start_time": "2024-12-30T11:25:25.650145Z"
    }
   },
   "cell_type": "code",
   "source": "sio.savemat('Datasets/CW1/processed.mat', {'HbOvol_unet': test_Y, 'HbOvol': data['HbOvol'], 'HbOvol_smoothed': data['HbOvol_smoothed']})",
   "id": "80767b58b60005e",
   "outputs": [],
   "execution_count": 29
  },
  {
   "metadata": {
    "ExecuteTime": {
     "end_time": "2024-12-31T13:28:12.771703Z",
     "start_time": "2024-12-31T13:28:12.672343Z"
    }
   },
   "cell_type": "code",
   "source": "A = sio.loadmat('CroppedWithjoenVtoggle/r2d.mat')",
   "id": "956e66ad6a371b6c",
   "outputs": [],
   "execution_count": 36
  },
  {
   "metadata": {
    "ExecuteTime": {
     "end_time": "2024-12-31T14:12:07.515941Z",
     "start_time": "2024-12-31T14:12:07.490083Z"
    }
   },
   "cell_type": "code",
   "source": [
    "r2d = A['r2d']\n",
    "r2d"
   ],
   "id": "929f06baa8cfb510",
   "outputs": [
    {
     "data": {
      "text/plain": [
       "array([[13.        ],\n",
       "       [29.06888371],\n",
       "       [46.87216658],\n",
       "       ...,\n",
       "       [46.87216658],\n",
       "       [29.06888371],\n",
       "       [13.        ]])"
      ]
     },
     "execution_count": 43,
     "metadata": {},
     "output_type": "execute_result"
    }
   ],
   "execution_count": 43
  },
  {
   "metadata": {
    "ExecuteTime": {
     "end_time": "2024-12-31T13:28:15.404032Z",
     "start_time": "2024-12-31T13:28:15.372051Z"
    }
   },
   "cell_type": "code",
   "source": "A",
   "id": "283acc51741005ff",
   "outputs": [
    {
     "data": {
      "text/plain": [
       "{'__header__': b'MATLAB 5.0 MAT-file, Platform: PCWIN64, Created on: Tue Dec 31 13:27:37 2024',\n",
       " '__version__': '1.0',\n",
       " '__globals__': [],\n",
       " 'r2d': array([[13.        ],\n",
       "        [29.06888371],\n",
       "        [46.87216658],\n",
       "        ...,\n",
       "        [46.87216658],\n",
       "        [29.06888371],\n",
       "        [13.        ]])}"
      ]
     },
     "execution_count": 37,
     "metadata": {},
     "output_type": "execute_result"
    }
   ],
   "execution_count": 37
  },
  {
   "metadata": {
    "ExecuteTime": {
     "end_time": "2024-12-31T14:11:51.497374Z",
     "start_time": "2024-12-31T14:11:51.478817Z"
    }
   },
   "cell_type": "code",
   "source": "r2d[np.where([1,0,1,0,1])]",
   "id": "ae99f139b62e7248",
   "outputs": [
    {
     "data": {
      "text/plain": [
       "array([[13.        ],\n",
       "       [46.87216658],\n",
       "       [29.06888371]])"
      ]
     },
     "execution_count": 42,
     "metadata": {},
     "output_type": "execute_result"
    }
   ],
   "execution_count": 42
  },
  {
   "metadata": {},
   "cell_type": "code",
   "source": [
    "from FCNet import Linear\n",
    "model = torch.load('Datasets/Training/FCNet/3D_UNet_trained3', map_location=torch.device('cpu'))\n",
    "data = mat73.loadmat('Datasets/SpinningOPChangeNoisy/SpinningOPChangeNoisy.mat')\n",
    "mask = sio.loadmat('mask.mat')['mask']\n",
    "r2d = sio.loadmat('CroppedWithjoenVtoggle/r2d.mat')"
   ],
   "id": "2b48d8dec1bfaaca",
   "outputs": [],
   "execution_count": null
  },
  {
   "metadata": {
    "ExecuteTime": {
     "end_time": "2025-01-01T19:30:24.386355Z",
     "start_time": "2025-01-01T19:30:23.953552Z"
    }
   },
   "cell_type": "code",
   "source": [
    "\n",
    "test_X = torch.tensor(data['all_dOD_noisy'][np.nonzero(r2d['r2d']<=47)[1],:], dtype=torch.float32)\n",
    "test_Y = np.zeros((80,32,64,test_X.shape[-1]))\n",
    "for i in tqdm(range(test_X.shape[-1])):\n",
    "    tmp = test_X[...,i]\n",
    "    test_Y[..., i] = model(tmp.unsqueeze(0).unsqueeze(0)).squeeze().detach().numpy() * mask\n",
    "sio.savemat('Datasets/SpinningOPChangeNoisy/processedFCNet.mat',\n",
    "            {'HbOvol_unet': test_Y, 'HbOvol': data['HbOvol'], 'HbOvol_smoothed': data['HbOvol_smoothed']})"
   ],
   "id": "9c3229eee22aa4c9",
   "outputs": [
    {
     "name": "stderr",
     "output_type": "stream",
     "text": [
      "  0%|          | 0/756 [00:00<?, ?it/s]\n"
     ]
    },
    {
     "name": "stdout",
     "output_type": "stream",
     "text": [
      "Unexpected exception formatting exception. Falling back to standard exception\n"
     ]
    },
    {
     "name": "stderr",
     "output_type": "stream",
     "text": [
      "Traceback (most recent call last):\n",
      "  File \"C:\\Users\\joeol\\.conda\\envs\\pythonProject\\lib\\site-packages\\IPython\\core\\interactiveshell.py\", line 3508, in run_code\n",
      "    exec(code_obj, self.user_global_ns, self.user_ns)\n",
      "  File \"C:\\Users\\joeol\\AppData\\Local\\Temp\\ipykernel_5116\\3650111440.py\", line 5, in <module>\n",
      "    test_Y[..., i] = model(tmp.unsqueeze(0).unsqueeze(0)).squeeze().detach().numpy() * mask\n",
      "  File \"C:\\Users\\joeol\\.conda\\envs\\pythonProject\\lib\\site-packages\\torch\\nn\\modules\\module.py\", line 1553, in _wrapped_call_impl\n",
      "    return self._call_impl(*args, **kwargs)\n",
      "  File \"C:\\Users\\joeol\\.conda\\envs\\pythonProject\\lib\\site-packages\\torch\\nn\\modules\\module.py\", line 1562, in _call_impl\n",
      "    return forward_call(*args, **kwargs)\n",
      "  File \"C:\\Joe Evans\\Work\\DOT\\BrainDOT2\\FCNet.py\", line 30, in forward\n",
      "  File \"C:\\Users\\joeol\\.conda\\envs\\pythonProject\\lib\\site-packages\\torch\\nn\\modules\\module.py\", line 1553, in _wrapped_call_impl\n",
      "    return self._call_impl(*args, **kwargs)\n",
      "  File \"C:\\Users\\joeol\\.conda\\envs\\pythonProject\\lib\\site-packages\\torch\\nn\\modules\\module.py\", line 1562, in _call_impl\n",
      "    return forward_call(*args, **kwargs)\n",
      "  File \"C:\\Users\\joeol\\.conda\\envs\\pythonProject\\lib\\site-packages\\torch\\nn\\modules\\linear.py\", line 117, in forward\n",
      "    return F.linear(input, self.weight, self.bias)\n",
      "RuntimeError: mat1 and mat2 shapes cannot be multiplied (696x756 and 696x163840)\n",
      "\n",
      "During handling of the above exception, another exception occurred:\n",
      "\n",
      "Traceback (most recent call last):\n",
      "  File \"C:\\Users\\joeol\\.conda\\envs\\pythonProject\\lib\\site-packages\\IPython\\core\\interactiveshell.py\", line 2105, in showtraceback\n",
      "    stb = self.InteractiveTB.structured_traceback(\n",
      "  File \"C:\\Users\\joeol\\.conda\\envs\\pythonProject\\lib\\site-packages\\IPython\\core\\ultratb.py\", line 1396, in structured_traceback\n",
      "    return FormattedTB.structured_traceback(\n",
      "  File \"C:\\Users\\joeol\\.conda\\envs\\pythonProject\\lib\\site-packages\\IPython\\core\\ultratb.py\", line 1287, in structured_traceback\n",
      "    return VerboseTB.structured_traceback(\n",
      "  File \"C:\\Users\\joeol\\.conda\\envs\\pythonProject\\lib\\site-packages\\IPython\\core\\ultratb.py\", line 1140, in structured_traceback\n",
      "    formatted_exception = self.format_exception_as_a_whole(etype, evalue, etb, number_of_lines_of_context,\n",
      "  File \"C:\\Users\\joeol\\.conda\\envs\\pythonProject\\lib\\site-packages\\IPython\\core\\ultratb.py\", line 1055, in format_exception_as_a_whole\n",
      "    frames.append(self.format_record(record))\n",
      "  File \"C:\\Users\\joeol\\.conda\\envs\\pythonProject\\lib\\site-packages\\IPython\\core\\ultratb.py\", line 955, in format_record\n",
      "    frame_info.lines, Colors, self.has_colors, lvals\n",
      "  File \"C:\\Users\\joeol\\.conda\\envs\\pythonProject\\lib\\site-packages\\IPython\\core\\ultratb.py\", line 778, in lines\n",
      "    return self._sd.lines\n",
      "  File \"C:\\Users\\joeol\\.conda\\envs\\pythonProject\\lib\\site-packages\\stack_data\\utils.py\", line 145, in cached_property_wrapper\n",
      "    value = obj.__dict__[self.func.__name__] = self.func(obj)\n",
      "  File \"C:\\Users\\joeol\\.conda\\envs\\pythonProject\\lib\\site-packages\\stack_data\\core.py\", line 698, in lines\n",
      "    pieces = self.included_pieces\n",
      "  File \"C:\\Users\\joeol\\.conda\\envs\\pythonProject\\lib\\site-packages\\stack_data\\utils.py\", line 145, in cached_property_wrapper\n",
      "    value = obj.__dict__[self.func.__name__] = self.func(obj)\n",
      "  File \"C:\\Users\\joeol\\.conda\\envs\\pythonProject\\lib\\site-packages\\stack_data\\core.py\", line 649, in included_pieces\n",
      "    pos = scope_pieces.index(self.executing_piece)\n",
      "  File \"C:\\Users\\joeol\\.conda\\envs\\pythonProject\\lib\\site-packages\\stack_data\\utils.py\", line 145, in cached_property_wrapper\n",
      "    value = obj.__dict__[self.func.__name__] = self.func(obj)\n",
      "  File \"C:\\Users\\joeol\\.conda\\envs\\pythonProject\\lib\\site-packages\\stack_data\\core.py\", line 628, in executing_piece\n",
      "    return only(\n",
      "  File \"C:\\Users\\joeol\\.conda\\envs\\pythonProject\\lib\\site-packages\\executing\\executing.py\", line 164, in only\n",
      "    raise NotOneValueFound('Expected one value, found 0')\n",
      "executing.executing.NotOneValueFound: Expected one value, found 0\n"
     ]
    }
   ],
   "execution_count": 82
  },
  {
   "metadata": {},
   "cell_type": "code",
   "outputs": [],
   "execution_count": null,
   "source": "",
   "id": "9286486fe61b0513"
  }
 ],
 "metadata": {
  "kernelspec": {
   "display_name": "Python 3 (ipykernel)",
   "language": "python",
   "name": "python3"
  },
  "language_info": {
   "codemirror_mode": {
    "name": "ipython",
    "version": 2
   },
   "file_extension": ".py",
   "mimetype": "text/x-python",
   "name": "python",
   "nbconvert_exporter": "python",
   "pygments_lexer": "ipython2",
   "version": "2.7.6"
  }
 },
 "nbformat": 4,
 "nbformat_minor": 5
}
