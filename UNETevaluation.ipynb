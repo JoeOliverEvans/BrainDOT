{
 "cells": [
  {
   "cell_type": "code",
   "id": "initial_id",
   "metadata": {
    "collapsed": true,
    "ExecuteTime": {
     "end_time": "2024-10-25T10:49:29.613315Z",
     "start_time": "2024-10-25T10:49:29.594970Z"
    }
   },
   "source": [
    "import mat73\n",
    "import numpy as np\n",
    "import scipy.io as sio\n",
    "import torch\n",
    "import torch.nn as nn\n",
    "from torchvision import models\n",
    "from torch.nn.functional import relu\n",
    "from torch.utils.data import Dataset\n",
    "from torch.utils.data import DataLoader\n",
    "import matplotlib.pyplot as plt\n",
    "import re\n",
    "import mat73\n",
    "from UNET import UNet\n",
    "from tqdm import tqdm"
   ],
   "outputs": [],
   "execution_count": 17
  },
  {
   "metadata": {
    "ExecuteTime": {
     "end_time": "2024-10-25T10:53:58.976706Z",
     "start_time": "2024-10-25T10:53:37.159538Z"
    }
   },
   "cell_type": "code",
   "source": [
    "model = torch.load(r'Datasets/FirstModel/3D_UNet_trained3')\n",
    "data = mat73.loadmat(r'Datasets/FirstModel/images_CCW1Mesh_spec4_2_nonan.mat')\n",
    "test_X = torch.tensor(data['noisy_images'][:,:,:,1950:], dtype=torch.float32)\n",
    "eval_Y = data['clean_images'][:,:,:,1950:]"
   ],
   "id": "2078da3cf052bc95",
   "outputs": [],
   "execution_count": 21
  },
  {
   "metadata": {
    "ExecuteTime": {
     "end_time": "2024-10-25T10:53:21.966275Z",
     "start_time": "2024-10-25T10:53:21.950654Z"
    }
   },
   "cell_type": "code",
   "source": "eval_Y.shape",
   "id": "b70b7e7b5ef52bd8",
   "outputs": [
    {
     "data": {
      "text/plain": [
       "torch.Size([32, 80, 64, 34])"
      ]
     },
     "execution_count": 20,
     "metadata": {},
     "output_type": "execute_result"
    }
   ],
   "execution_count": 20
  },
  {
   "metadata": {
    "ExecuteTime": {
     "end_time": "2024-10-25T10:52:51.854838Z",
     "start_time": "2024-10-25T10:52:45.213088Z"
    }
   },
   "cell_type": "code",
   "source": [
    "test_Y = np.zeros(test_X.shape)\n",
    "for i in tqdm(range(test_X.shape[-1])):\n",
    "    tmp = test_X[:, :, :, i]\n",
    "    test_Y[:, :, :, i] = model(tmp.unsqueeze(0).unsqueeze(0)).squeeze().detach().numpy()\n",
    "sio.savemat(r'Datasets/FirstModel/test_processed.mat', {'recon2': test_Y, 'eval_images' : eval_Y})"
   ],
   "id": "4d84a9829fd63640",
   "outputs": [
    {
     "name": "stderr",
     "output_type": "stream",
     "text": [
      "100%|██████████| 34/34 [00:06<00:00,  5.31it/s]\n"
     ]
    }
   ],
   "execution_count": 19
  },
  {
   "metadata": {},
   "cell_type": "code",
   "outputs": [],
   "execution_count": null,
   "source": "",
   "id": "540410193304201"
  }
 ],
 "metadata": {
  "kernelspec": {
   "display_name": "Python 3",
   "language": "python",
   "name": "python3"
  },
  "language_info": {
   "codemirror_mode": {
    "name": "ipython",
    "version": 2
   },
   "file_extension": ".py",
   "mimetype": "text/x-python",
   "name": "python",
   "nbconvert_exporter": "python",
   "pygments_lexer": "ipython2",
   "version": "2.7.6"
  }
 },
 "nbformat": 4,
 "nbformat_minor": 5
}
