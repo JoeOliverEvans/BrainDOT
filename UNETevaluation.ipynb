{
 "cells": [
  {
   "cell_type": "code",
   "id": "initial_id",
   "metadata": {
    "collapsed": true,
    "ExecuteTime": {
     "end_time": "2024-11-06T12:52:35.790076Z",
     "start_time": "2024-11-06T12:52:29.371650Z"
    }
   },
   "source": [
    "import mat73\n",
    "import numpy as np\n",
    "import scipy.io as sio\n",
    "import torch\n",
    "import torch.nn as nn\n",
    "from torchvision import models\n",
    "from torch.nn.functional import relu\n",
    "from torch.utils.data import Dataset\n",
    "from torch.utils.data import DataLoader\n",
    "import matplotlib.pyplot as plt\n",
    "import re\n",
    "import mat73\n",
    "from DeepUNET import UNet\n",
    "from tqdm import tqdm"
   ],
   "outputs": [
    {
     "name": "stderr",
     "output_type": "stream",
     "text": [
      "C:\\Users\\joeol\\anaconda3\\lib\\site-packages\\scipy\\__init__.py:138: UserWarning: A NumPy version >=1.16.5 and <1.23.0 is required for this version of SciPy (detected version 1.24.3)\n",
      "  warnings.warn(f\"A NumPy version >={np_minversion} and <{np_maxversion} is required for this version of \"\n"
     ]
    }
   ],
   "execution_count": 2
  },
  {
   "metadata": {
    "ExecuteTime": {
     "end_time": "2024-11-05T11:36:52.497921Z",
     "start_time": "2024-11-05T11:36:05.833110Z"
    }
   },
   "cell_type": "code",
   "source": [
    "model = torch.load(r'Datasets/BiggerDataset/3D_UNet_trained3')\n",
    "data = mat73.loadmat(r'Datasets/BiggerDataset/images_CCW1Mesh_spec4_2.mat')\n",
    "test_X = torch.tensor(data['noisy_images'][:,:,:,2900:], dtype=torch.float32)\n",
    "eval_Y = data['clean_images'][:,:,:,2900:]"
   ],
   "id": "2078da3cf052bc95",
   "outputs": [],
   "execution_count": 39
  },
  {
   "metadata": {
    "ExecuteTime": {
     "end_time": "2024-11-05T11:36:52.723229Z",
     "start_time": "2024-11-05T11:36:52.576986Z"
    }
   },
   "cell_type": "code",
   "source": "np.array(eval_Y).shape",
   "id": "b70b7e7b5ef52bd8",
   "outputs": [
    {
     "data": {
      "text/plain": [
       "(32, 80, 64, 100)"
      ]
     },
     "execution_count": 40,
     "metadata": {},
     "output_type": "execute_result"
    }
   ],
   "execution_count": 40
  },
  {
   "metadata": {
    "ExecuteTime": {
     "end_time": "2024-11-05T11:37:41.891250Z",
     "start_time": "2024-11-05T11:37:14.360028Z"
    }
   },
   "cell_type": "code",
   "source": [
    "test_Y = np.zeros(test_X.shape)\n",
    "for i in tqdm(range(test_X.shape[-1])):\n",
    "    tmp = test_X[:, :, :, i]\n",
    "    test_Y[:, :, :, i] = model(tmp.unsqueeze(0).unsqueeze(0)).squeeze().detach().numpy()\n",
    "sio.savemat(r'Datasets/BiggerDataset/test_processed.mat', {'recon2': test_Y, 'smooth_images' : eval_Y, 'noisy_images' : np.array(test_X)})"
   ],
   "id": "4d84a9829fd63640",
   "outputs": [
    {
     "name": "stderr",
     "output_type": "stream",
     "text": [
      "100%|██████████| 100/100 [00:26<00:00,  3.79it/s]\n"
     ]
    }
   ],
   "execution_count": 41
  },
  {
   "metadata": {
    "ExecuteTime": {
     "end_time": "2024-11-05T14:27:37.074346Z",
     "start_time": "2024-11-05T14:27:37.025929Z"
    }
   },
   "cell_type": "code",
   "source": "",
   "id": "540410193304201",
   "outputs": [],
   "execution_count": null
  },
  {
   "metadata": {},
   "cell_type": "markdown",
   "source": "## For real data",
   "id": "71296263cf25f87d"
  },
  {
   "metadata": {
    "ExecuteTime": {
     "end_time": "2024-11-06T13:12:29.620759Z",
     "start_time": "2024-11-06T13:12:28.389638Z"
    }
   },
   "cell_type": "code",
   "source": [
    "model = torch.load(r'Models/BiggerDatasetDeeper/3D_UNet_trained3')\n",
    "data = mat73.loadmat(r'Datasets/CW1/NeurodotImages.mat')\n",
    "data2 = mat73.loadmat(r'Datasets/CW1/NeurodotSmoothImages.mat')\n",
    "test_X = torch.tensor(data['noisy_images'][:,:,:,:], dtype=torch.float32)"
   ],
   "id": "89360b37e194f208",
   "outputs": [],
   "execution_count": 8
  },
  {
   "metadata": {
    "ExecuteTime": {
     "end_time": "2024-11-06T13:12:29.698806Z",
     "start_time": "2024-11-06T13:12:29.658162Z"
    }
   },
   "cell_type": "code",
   "source": "np.array(test_X).shape",
   "id": "c4153937e5e9d183",
   "outputs": [
    {
     "data": {
      "text/plain": [
       "(32, 80, 64, 36)"
      ]
     },
     "execution_count": 9,
     "metadata": {},
     "output_type": "execute_result"
    }
   ],
   "execution_count": 9
  },
  {
   "metadata": {
    "ExecuteTime": {
     "end_time": "2024-11-06T13:15:02.267356Z",
     "start_time": "2024-11-06T13:14:54.401297Z"
    }
   },
   "cell_type": "code",
   "source": [
    "test_Y = np.zeros(test_X.shape)\n",
    "for i in tqdm(range(test_X.shape[-1])):\n",
    "    tmp = test_X[:, :, :, i]\n",
    "    test_Y[:, :, :, i] = model(tmp.unsqueeze(0).unsqueeze(0)).squeeze().detach().numpy()\n",
    "sio.savemat(r'Models/BiggerDatasetDeeper/CW1/CW1_processed.mat', {'recon2': test_Y, 'noisy_images' : np.array(test_X), 'smooth_images' : np.array(data2['noisy_images'])})"
   ],
   "id": "3c1fb0eefc53a770",
   "outputs": [
    {
     "name": "stderr",
     "output_type": "stream",
     "text": [
      "100%|██████████| 36/36 [00:07<00:00,  4.77it/s]\n"
     ]
    }
   ],
   "execution_count": 11
  },
  {
   "metadata": {},
   "cell_type": "code",
   "outputs": [],
   "execution_count": null,
   "source": "",
   "id": "f40c7ce3e6d1f3b0"
  }
 ],
 "metadata": {
  "kernelspec": {
   "display_name": "Python 3",
   "language": "python",
   "name": "python3"
  },
  "language_info": {
   "codemirror_mode": {
    "name": "ipython",
    "version": 2
   },
   "file_extension": ".py",
   "mimetype": "text/x-python",
   "name": "python",
   "nbconvert_exporter": "python",
   "pygments_lexer": "ipython2",
   "version": "2.7.6"
  }
 },
 "nbformat": 4,
 "nbformat_minor": 5
}
