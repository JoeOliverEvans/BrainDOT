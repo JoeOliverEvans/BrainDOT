{
 "cells": [
  {
   "metadata": {},
   "cell_type": "markdown",
   "source": "## UNET parameter equation",
   "id": "be687c9b80a3fa37"
  },
  {
   "cell_type": "code",
   "id": "initial_id",
   "metadata": {
    "collapsed": true,
    "ExecuteTime": {
     "end_time": "2024-11-11T14:09:45.009237Z",
     "start_time": "2024-11-11T14:09:44.993663Z"
    }
   },
   "source": [
    "def calculateUNETParameters(cd, cp, A, N):\n",
    "    \"\"\"\n",
    "    \n",
    "    :param cd: kernel size in convs\n",
    "    :param cp: kernel size in pooling\n",
    "    :param A: activation maps\n",
    "    :param N: layers\n",
    "    :return: \n",
    "    \"\"\"\n",
    "    encoder = ((2**(2*N-1)-1)*A**2+A)*cd**3 + 2*(2**N-1)*A\n",
    "    print('encoder : ' + str(encoder))\n",
    "    decoder_convs = cd**3*(4**(N-1)-1)*A**2 + 2*(2**(N-1)-1)*A\n",
    "    print('decoder_convs : ' + str(decoder_convs))\n",
    "    decoder_upconvs = cp**3*A**2*((1/6)*(4**(N)-4)) + (2**(N-1)-1) * A\n",
    "    print('decoder_upconvs : ' + str(decoder_upconvs))\n",
    "    decoder = decoder_convs + decoder_upconvs + A + 1\n",
    "    print('decoder : ' + str(decoder))\n",
    "\n",
    "    return encoder + decoder"
   ],
   "outputs": [],
   "execution_count": 2
  },
  {
   "metadata": {},
   "cell_type": "markdown",
   "source": "## Jiaming net",
   "id": "ac42f3901b12c91e"
  },
  {
   "metadata": {
    "ExecuteTime": {
     "end_time": "2024-11-11T14:09:46.247489Z",
     "start_time": "2024-11-11T14:09:46.231861Z"
    }
   },
   "cell_type": "code",
   "source": "calculateUNETParameters(3,2,16,4)",
   "id": "df0d0ce3c9ffd25c",
   "outputs": [
    {
     "name": "stdout",
     "output_type": "stream",
     "text": [
      "encoder : 878736\n",
      "decoder_convs : 435680\n",
      "decoder_upconvs : 86128.0\n",
      "decoder : 521825.0\n"
     ]
    },
    {
     "data": {
      "text/plain": [
       "1400561.0"
      ]
     },
     "execution_count": 3,
     "metadata": {},
     "output_type": "execute_result"
    }
   ],
   "execution_count": 3
  },
  {
   "metadata": {},
   "cell_type": "markdown",
   "source": "## DeepNet",
   "id": "42f4cf7c1f6c57e0"
  },
  {
   "metadata": {
    "ExecuteTime": {
     "end_time": "2024-11-11T14:09:47.616507Z",
     "start_time": "2024-11-11T14:09:47.601499Z"
    }
   },
   "cell_type": "code",
   "source": "calculateUNETParameters(3,2,16,5)",
   "id": "5e664c8c8551ee48",
   "outputs": [
    {
     "name": "stdout",
     "output_type": "stream",
     "text": [
      "encoder : 3533456\n",
      "decoder_convs : 1763040\n",
      "decoder_upconvs : 348400.0\n",
      "decoder : 2111457.0\n"
     ]
    },
    {
     "data": {
      "text/plain": [
       "5644913.0"
      ]
     },
     "execution_count": 4,
     "metadata": {},
     "output_type": "execute_result"
    }
   ],
   "execution_count": 4
  },
  {
   "metadata": {},
   "cell_type": "markdown",
   "source": "# Bigger Kernel",
   "id": "a2f200a31137a18b"
  },
  {
   "metadata": {
    "ExecuteTime": {
     "end_time": "2024-11-11T14:09:49.790203Z",
     "start_time": "2024-11-11T14:09:49.769204Z"
    }
   },
   "cell_type": "code",
   "source": "calculateUNETParameters(5,2,8,4)",
   "id": "94210fd78df9ce71",
   "outputs": [
    {
     "name": "stdout",
     "output_type": "stream",
     "text": [
      "encoder : 1017240\n",
      "decoder_convs : 504112\n",
      "decoder_upconvs : 21560.0\n",
      "decoder : 525681.0\n"
     ]
    },
    {
     "data": {
      "text/plain": [
       "1542921.0"
      ]
     },
     "execution_count": 5,
     "metadata": {},
     "output_type": "execute_result"
    }
   ],
   "execution_count": 5
  },
  {
   "metadata": {},
   "cell_type": "markdown",
   "source": "# Deep but approx same params",
   "id": "3b0b58fe0b3e32a9"
  },
  {
   "metadata": {
    "ExecuteTime": {
     "end_time": "2024-11-11T14:09:51.514002Z",
     "start_time": "2024-11-11T14:09:51.505960Z"
    }
   },
   "cell_type": "code",
   "source": "calculateUNETParameters(3,2,8,5)",
   "id": "3480c67aabc0590b",
   "outputs": [
    {
     "name": "stdout",
     "output_type": "stream",
     "text": [
      "encoder : 883720\n",
      "decoder_convs : 440880\n",
      "decoder_upconvs : 87160.0\n",
      "decoder : 528049.0\n"
     ]
    },
    {
     "data": {
      "text/plain": [
       "1411769.0"
      ]
     },
     "execution_count": 6,
     "metadata": {},
     "output_type": "execute_result"
    }
   ],
   "execution_count": 6
  },
  {
   "metadata": {
    "ExecuteTime": {
     "end_time": "2024-11-11T14:09:43.604107Z",
     "start_time": "2024-11-11T14:09:42.936090Z"
    }
   },
   "cell_type": "code",
   "source": [
    "import numpy as np\n",
    "import matplotlib.pyplot as plt"
   ],
   "id": "cabc47f49becea6",
   "outputs": [],
   "execution_count": 1
  },
  {
   "metadata": {
    "ExecuteTime": {
     "end_time": "2024-11-11T14:15:09.586212Z",
     "start_time": "2024-11-11T14:15:09.077707Z"
    }
   },
   "cell_type": "code",
   "source": [
    "fig, ax1 = plt.subplots()\n",
    "\n",
    "colour1 = 'tab:red'\n",
    "ax1.set_title('Testing and training loss')\n",
    "ax1.set_xlabel('Epochs')\n",
    "ax1.plot(np.arange(0, 6), calculateUNETParameters(np.arange(0, 6),2,16,4)\n",
    ", label='training loss', color=colour1)\n",
    "ax1.tick_params(axis='y', labelcolor=colour1)\n",
    "ax1.set_ylabel('Training Loss', color=colour1)\n",
    "\n",
    "ax2 = ax1.twinx()\n",
    "colour2 = 'tab:blue'\n",
    "ax1.plot(np.arange(2, 6), calculateUNETParameters(3,2,16,np.arange(2, 6))\n",
    ", label='training loss', color=colour2)\n",
    "ax2.tick_params(axis='y', labelcolor=colour2)\n",
    "\n",
    "ax3 = ax1.twinx()\n",
    "colour2 = 'tab:green'\n",
    "ax1.plot(np.arange(1, 6), calculateUNETParameters(3,2,np.arange(1, 6)*16,4)\n",
    ", label='training loss', color=colour2)\n",
    "ax2.tick_params(axis='y', labelcolor=colour2)\n",
    "\n",
    "fig.tight_layout()\n",
    "plt.show()"
   ],
   "id": "8585f9b16172979d",
   "outputs": [
    {
     "name": "stdout",
     "output_type": "stream",
     "text": [
      "encoder : [    480   33008  260704  878736 2082272 4066480]\n",
      "decoder_convs : [    224   16352  129248  435680 1032416 2016224]\n",
      "decoder_upconvs : 86128.0\n",
      "decoder : [  86369.  102497.  215393.  521825. 1118561. 2102369.]\n",
      "encoder : [  48912  214928  878736 3533456]\n",
      "decoder_convs : [  20768  103776  435680 1763040]\n",
      "decoder_upconvs : [  4112.  20528.  86128. 348400.]\n",
      "decoder : [  24897.  124321.  521825. 2111457.]\n",
      "encoder : [  878736  3513120  7903152 14048832 21950160]\n",
      "decoder_convs : [  435680  1742272  3919776  6968192 10887520]\n",
      "decoder_upconvs : [  86128.  344288.  774480. 1376704. 2150960.]\n",
      "decoder : [  521825.  2086593.  4694305.  8344961. 13038561.]\n"
     ]
    },
    {
     "data": {
      "text/plain": [
       "<Figure size 432x288 with 3 Axes>"
      ],
      "image/png": "[encoded data removed]"
     },
     "metadata": {
      "needs_background": "light"
     },
     "output_type": "display_data"
    }
   ],
   "execution_count": 23
  },
  {
   "metadata": {
    "ExecuteTime": {
     "end_time": "2024-11-11T14:11:35.510735Z",
     "start_time": "2024-11-11T14:11:35.492525Z"
    }
   },
   "cell_type": "code",
   "source": "",
   "id": "1a249e87882e7fde",
   "outputs": [],
   "execution_count": null
  },
  {
   "metadata": {},
   "cell_type": "code",
   "source": "",
   "id": "8f4c75f3572e4798",
   "outputs": [],
   "execution_count": null
  }
 ],
 "metadata": {
  "kernelspec": {
   "display_name": "Python 3",
   "language": "python",
   "name": "python3"
  },
  "language_info": {
   "codemirror_mode": {
    "name": "ipython",
    "version": 2
   },
   "file_extension": ".py",
   "mimetype": "text/x-python",
   "name": "python",
   "nbconvert_exporter": "python",
   "pygments_lexer": "ipython2",
   "version": "2.7.6"
  }
 },
 "nbformat": 4,
 "nbformat_minor": 5
}
