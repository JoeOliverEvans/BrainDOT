{
 "cells": [
  {
   "cell_type": "code",
   "id": "initial_id",
   "metadata": {
    "collapsed": true,
    "ExecuteTime": {
     "end_time": "2024-11-08T10:36:14.529757Z",
     "start_time": "2024-11-08T10:36:11.282281Z"
    }
   },
   "source": [
    "import mat73\n",
    "import numpy as np\n",
    "import matplotlib.pyplot as plt\n",
    "import scipy\n",
    "import scipy.io as sio\n",
    "import pandas as pd\n",
    "from skimage import metrics"
   ],
   "outputs": [
    {
     "name": "stderr",
     "output_type": "stream",
     "text": [
      "C:\\Users\\joeol\\anaconda3\\lib\\site-packages\\scipy\\__init__.py:138: UserWarning: A NumPy version >=1.16.5 and <1.23.0 is required for this version of SciPy (detected version 1.24.3)\n",
      "  warnings.warn(f\"A NumPy version >={np_minversion} and <{np_maxversion} is required for this version of \"\n"
     ]
    }
   ],
   "execution_count": 2
  },
  {
   "metadata": {
    "ExecuteTime": {
     "end_time": "2024-11-08T10:36:14.879331Z",
     "start_time": "2024-11-08T10:36:14.542664Z"
    }
   },
   "cell_type": "code",
   "source": [
    "mri = sio.loadmat(r'Models/BiggerDatasetDeeper/CCW1/CCW1_processed.mat')['recon2']\n",
    "data = sio.loadmat(r'Models/BiggerDatasetDeeper/CCW1/CCW1_processed.mat')\n",
    "unet = data['recon2']\n",
    "smoothed = data['smooth_images']\n",
    "unsmoothed = data['noisy_images']"
   ],
   "id": "5593851dc2e96214",
   "outputs": [],
   "execution_count": 3
  },
  {
   "metadata": {},
   "cell_type": "markdown",
   "source": "With MRI used as the optimal measurement the rest of the metrics are calculated based on that being ground truth",
   "id": "b6176cb7037cd5f7"
  },
  {
   "metadata": {
    "ExecuteTime": {
     "end_time": "2024-11-08T10:36:15.205152Z",
     "start_time": "2024-11-08T10:36:15.089049Z"
    }
   },
   "cell_type": "code",
   "source": [
    "df = pd.DataFrame(columns=['unet_mse', 'unet_ssim', 'smoothed_mse', 'smoothed_ssim', 'unsmoothed_mse', 'unsmoothed_ssim'])\n",
    "df"
   ],
   "id": "1ba4a9ceee11100d",
   "outputs": [
    {
     "data": {
      "text/plain": [
       "Empty DataFrame\n",
       "Columns: [unet_mse, unet_ssim, smoothed_mse, smoothed_ssim, unsmoothed_mse, unsmoothed_ssim]\n",
       "Index: []"
      ],
      "text/html": [
       "<div>\n",
       "<style scoped>\n",
       "    .dataframe tbody tr th:only-of-type {\n",
       "        vertical-align: middle;\n",
       "    }\n",
       "\n",
       "    .dataframe tbody tr th {\n",
       "        vertical-align: top;\n",
       "    }\n",
       "\n",
       "    .dataframe thead th {\n",
       "        text-align: right;\n",
       "    }\n",
       "</style>\n",
       "<table border=\"1\" class=\"dataframe\">\n",
       "  <thead>\n",
       "    <tr style=\"text-align: right;\">\n",
       "      <th></th>\n",
       "      <th>unet_mse</th>\n",
       "      <th>unet_ssim</th>\n",
       "      <th>smoothed_mse</th>\n",
       "      <th>smoothed_ssim</th>\n",
       "      <th>unsmoothed_mse</th>\n",
       "      <th>unsmoothed_ssim</th>\n",
       "    </tr>\n",
       "  </thead>\n",
       "  <tbody>\n",
       "  </tbody>\n",
       "</table>\n",
       "</div>"
      ]
     },
     "execution_count": 4,
     "metadata": {},
     "output_type": "execute_result"
    }
   ],
   "execution_count": 4
  },
  {
   "metadata": {
    "ExecuteTime": {
     "end_time": "2024-11-08T10:36:15.429942Z",
     "start_time": "2024-11-08T10:36:15.402478Z"
    }
   },
   "cell_type": "code",
   "source": [
    "def mse(input, target):\n",
    "    \"\"\"\n",
    "    returns the array of the mean squared error of the input vs target\n",
    "    :param input: array\n",
    "    :param target: array\n",
    "    :return: \n",
    "    \"\"\"\n",
    "    return np.sum(np.subtract(input, target) ** 2, axis=tuple([0, 1, 2]))\n",
    "\n",
    "def ssim(input, target):\n",
    "    \"\"\"\n",
    "    return the array of SSIM of the input vs target\n",
    "    :param input: \n",
    "    :param target: \n",
    "    :return: \n",
    "    \"\"\"\n",
    "    ssim = []\n",
    "    for i in range(input.shape[-1]):\n",
    "        ssim.append(metrics.structural_similarity(input[:,:,:,i], target[:,:,:,i]))\n",
    "    return np.array(ssim)"
   ],
   "id": "1fc3caa31d9fa58e",
   "outputs": [],
   "execution_count": 5
  },
  {
   "metadata": {
    "ExecuteTime": {
     "end_time": "2024-11-08T10:36:19.400409Z",
     "start_time": "2024-11-08T10:36:15.685229Z"
    }
   },
   "cell_type": "code",
   "source": [
    "df['smoothed_mse'] = mse(smoothed, mri) \n",
    "df['smoothed_ssim'] = ssim(smoothed, mri)\n",
    "df['unsmoothed_mse'] = mse(unsmoothed, unet)\n",
    "df['unsmoothed_ssim'] = ssim(unsmoothed, unet)\n",
    "df['unet_mse'] = mse(unet, unet)\n",
    "df['unet_ssim'] = ssim(unet, unet)"
   ],
   "id": "ed7fb186f1bfb619",
   "outputs": [
    {
     "name": "stderr",
     "output_type": "stream",
     "text": [
      "<ipython-input-5-7e476c3d8d13>:19: UserWarning: Inputs have mismatched dtype.  Setting data_range based on im1.dtype.\n",
      "  ssim.append(metrics.structural_similarity(input[:,:,:,i], target[:,:,:,i]))\n"
     ]
    }
   ],
   "execution_count": 6
  },
  {
   "metadata": {
    "ExecuteTime": {
     "end_time": "2024-11-08T10:36:19.447422Z",
     "start_time": "2024-11-08T10:36:19.417Z"
    }
   },
   "cell_type": "code",
   "source": "df.head()",
   "id": "b20f2225396cab6",
   "outputs": [
    {
     "data": {
      "text/plain": [
       "   unet_mse  unet_ssim   smoothed_mse  smoothed_ssim  unsmoothed_mse  \\\n",
       "0       0.0        1.0  309817.136989       0.552972   392326.236460   \n",
       "1       0.0        1.0  266650.500599       0.549160   329272.180911   \n",
       "2       0.0        1.0  242116.112954       0.560539   297373.570518   \n",
       "3       0.0        1.0  255678.703391       0.549341   324261.224764   \n",
       "4       0.0        1.0  241170.605225       0.548692   316700.787912   \n",
       "\n",
       "   unsmoothed_ssim  \n",
       "0         0.590267  \n",
       "1         0.590641  \n",
       "2         0.599917  \n",
       "3         0.590034  \n",
       "4         0.592653  "
      ],
      "text/html": [
       "<div>\n",
       "<style scoped>\n",
       "    .dataframe tbody tr th:only-of-type {\n",
       "        vertical-align: middle;\n",
       "    }\n",
       "\n",
       "    .dataframe tbody tr th {\n",
       "        vertical-align: top;\n",
       "    }\n",
       "\n",
       "    .dataframe thead th {\n",
       "        text-align: right;\n",
       "    }\n",
       "</style>\n",
       "<table border=\"1\" class=\"dataframe\">\n",
       "  <thead>\n",
       "    <tr style=\"text-align: right;\">\n",
       "      <th></th>\n",
       "      <th>unet_mse</th>\n",
       "      <th>unet_ssim</th>\n",
       "      <th>smoothed_mse</th>\n",
       "      <th>smoothed_ssim</th>\n",
       "      <th>unsmoothed_mse</th>\n",
       "      <th>unsmoothed_ssim</th>\n",
       "    </tr>\n",
       "  </thead>\n",
       "  <tbody>\n",
       "    <tr>\n",
       "      <th>0</th>\n",
       "      <td>0.0</td>\n",
       "      <td>1.0</td>\n",
       "      <td>309817.136989</td>\n",
       "      <td>0.552972</td>\n",
       "      <td>392326.236460</td>\n",
       "      <td>0.590267</td>\n",
       "    </tr>\n",
       "    <tr>\n",
       "      <th>1</th>\n",
       "      <td>0.0</td>\n",
       "      <td>1.0</td>\n",
       "      <td>266650.500599</td>\n",
       "      <td>0.549160</td>\n",
       "      <td>329272.180911</td>\n",
       "      <td>0.590641</td>\n",
       "    </tr>\n",
       "    <tr>\n",
       "      <th>2</th>\n",
       "      <td>0.0</td>\n",
       "      <td>1.0</td>\n",
       "      <td>242116.112954</td>\n",
       "      <td>0.560539</td>\n",
       "      <td>297373.570518</td>\n",
       "      <td>0.599917</td>\n",
       "    </tr>\n",
       "    <tr>\n",
       "      <th>3</th>\n",
       "      <td>0.0</td>\n",
       "      <td>1.0</td>\n",
       "      <td>255678.703391</td>\n",
       "      <td>0.549341</td>\n",
       "      <td>324261.224764</td>\n",
       "      <td>0.590034</td>\n",
       "    </tr>\n",
       "    <tr>\n",
       "      <th>4</th>\n",
       "      <td>0.0</td>\n",
       "      <td>1.0</td>\n",
       "      <td>241170.605225</td>\n",
       "      <td>0.548692</td>\n",
       "      <td>316700.787912</td>\n",
       "      <td>0.592653</td>\n",
       "    </tr>\n",
       "  </tbody>\n",
       "</table>\n",
       "</div>"
      ]
     },
     "execution_count": 7,
     "metadata": {},
     "output_type": "execute_result"
    }
   ],
   "execution_count": 7
  },
  {
   "metadata": {
    "ExecuteTime": {
     "end_time": "2024-11-08T10:47:44.689365Z",
     "start_time": "2024-11-08T10:47:44.507058Z"
    }
   },
   "cell_type": "code",
   "source": [
    "plt.figure()\n",
    "df.boxplot(column=['unet_mse', 'smoothed_mse', 'unsmoothed_mse'])\n",
    "plt.ylabel('MSE')\n",
    "plt.title('MSE with fMRI as ground truth')\n",
    "plt.show()"
   ],
   "id": "e4a2087902d8c2f4",
   "outputs": [
    {
     "data": {
      "text/plain": [
       "<Figure size 432x288 with 1 Axes>"
      ],
      "image/png": "[encoded data removed]"
     },
     "metadata": {
      "needs_background": "light"
     },
     "output_type": "display_data"
    }
   ],
   "execution_count": 23
  },
  {
   "metadata": {
    "ExecuteTime": {
     "end_time": "2024-11-08T10:46:45.225199Z",
     "start_time": "2024-11-08T10:46:45.030968Z"
    }
   },
   "cell_type": "code",
   "source": [
    "plt.figure()\n",
    "df.boxplot(column=['unet_ssim', 'smoothed_ssim', 'unsmoothed_ssim'])\n",
    "plt.ylabel('SSIM')\n",
    "plt.title('SSIM with fMRI as ground truth')\n",
    "plt.show()"
   ],
   "id": "9425421cad9483b6",
   "outputs": [
    {
     "data": {
      "text/plain": [
       "<Figure size 432x288 with 1 Axes>"
      ],
      "image/png": "[encoded data removed]"
     },
     "metadata": {
      "needs_background": "light"
     },
     "output_type": "display_data"
    }
   ],
   "execution_count": 22
  },
  {
   "metadata": {
    "ExecuteTime": {
     "end_time": "2024-11-08T11:01:26.854321Z",
     "start_time": "2024-11-08T11:01:25.760466Z"
    }
   },
   "cell_type": "code",
   "source": [
    "fig, ax1 = plt.subplots()\n",
    "\n",
    "colour1 = '#FF674F'\n",
    "ax1.set_title('Image similarity measures')\n",
    "#ax1.set_xlabel('MSE')\n",
    "df.boxplot(column=['unet_mse', 'smoothed_mse', 'unsmoothed_mse'], color=colour1)\n",
    "ax1.tick_params(axis='y', labelcolor=colour1)\n",
    "ax1.set_ylabel('MSE', color=colour1)\n",
    "\n",
    "ax2 = ax1.twinx()\n",
    "colour2 = '#4F90FF'\n",
    "df.boxplot(column=['unet_ssim', 'smoothed_ssim', 'unsmoothed_ssim'], color=colour2)\n",
    "ax2.set_ylabel('SSIM', color=colour2)\n",
    "ax2.tick_params(axis='y', labelcolor=colour2)\n",
    "ax2.set_xticklabels(['','','', 'UNET', 'Smoothed', 'Unsmoothed'])\n",
    "fig.tight_layout()\n",
    "plt.savefig('Image Similarity Measures.pdf', bbox_inches='tight', dpi=300)\n",
    "plt.show()"
   ],
   "id": "e47a31cab63f6e5c",
   "outputs": [
    {
     "data": {
      "text/plain": [
       "<Figure size 432x288 with 2 Axes>"
      ],
      "image/png": "[encoded data removed]"
     },
     "metadata": {},
     "output_type": "display_data"
    }
   ],
   "execution_count": 38
  }
 ],
 "metadata": {
  "kernelspec": {
   "display_name": "Python 3",
   "language": "python",
   "name": "python3"
  },
  "language_info": {
   "codemirror_mode": {
    "name": "ipython",
    "version": 2
   },
   "file_extension": ".py",
   "mimetype": "text/x-python",
   "name": "python",
   "nbconvert_exporter": "python",
   "pygments_lexer": "ipython2",
   "version": "2.7.6"
  }
 },
 "nbformat": 4,
 "nbformat_minor": 5
}
